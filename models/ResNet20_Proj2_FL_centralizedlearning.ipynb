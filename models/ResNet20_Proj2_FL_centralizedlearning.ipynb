{
  "cells": [
    {
      "cell_type": "markdown",
      "metadata": {
        "id": "c9QcGnGPdX2C"
      },
      "source": [
        "\n",
        "**Install requirements**"
      ]
    },
    {
      "cell_type": "code",
      "execution_count": 1,
      "metadata": {
        "colab": {
          "base_uri": "https://localhost:8080/",
          "height": 1000
        },
        "id": "k9O3aM3Tb28q",
        "outputId": "16e03f31-998f-4978-fb17-77509630a460"
      },
      "outputs": [
        {
          "output_type": "stream",
          "name": "stdout",
          "text": [
            "Looking in indexes: https://pypi.org/simple, https://us-python.pkg.dev/colab-wheels/public/simple/\n",
            "\u001b[31mERROR: Could not find a version that satisfies the requirement torch==1.3.1 (from versions: 1.4.0, 1.5.0, 1.5.1, 1.6.0, 1.7.0, 1.7.1, 1.8.0, 1.8.1, 1.9.0, 1.9.1, 1.10.0, 1.10.1, 1.10.2, 1.11.0, 1.12.0, 1.12.1, 1.13.0, 1.13.1)\u001b[0m\n",
            "\u001b[31mERROR: No matching distribution found for torch==1.3.1\u001b[0m\n",
            "Looking in indexes: https://pypi.org/simple, https://us-python.pkg.dev/colab-wheels/public/simple/\n",
            "Collecting torchvision==0.5.0\n",
            "  Downloading torchvision-0.5.0-cp38-cp38-manylinux1_x86_64.whl (4.0 MB)\n",
            "\u001b[K     |████████████████████████████████| 4.0 MB 15.6 MB/s \n",
            "\u001b[?25hRequirement already satisfied: pillow>=4.1.1 in /usr/local/lib/python3.8/dist-packages (from torchvision==0.5.0) (7.1.2)\n",
            "Requirement already satisfied: six in /usr/local/lib/python3.8/dist-packages (from torchvision==0.5.0) (1.15.0)\n",
            "Collecting torch==1.4.0\n",
            "  Downloading torch-1.4.0-cp38-cp38-manylinux1_x86_64.whl (753.4 MB)\n",
            "\u001b[K     |████████████████████████████████| 753.4 MB 21 kB/s \n",
            "\u001b[?25hRequirement already satisfied: numpy in /usr/local/lib/python3.8/dist-packages (from torchvision==0.5.0) (1.21.6)\n",
            "Installing collected packages: torch, torchvision\n",
            "  Attempting uninstall: torch\n",
            "    Found existing installation: torch 1.13.0+cu116\n",
            "    Uninstalling torch-1.13.0+cu116:\n",
            "      Successfully uninstalled torch-1.13.0+cu116\n",
            "  Attempting uninstall: torchvision\n",
            "    Found existing installation: torchvision 0.14.0+cu116\n",
            "    Uninstalling torchvision-0.14.0+cu116:\n",
            "      Successfully uninstalled torchvision-0.14.0+cu116\n",
            "\u001b[31mERROR: pip's dependency resolver does not currently take into account all the packages that are installed. This behaviour is the source of the following dependency conflicts.\n",
            "torchtext 0.14.0 requires torch==1.13.0, but you have torch 1.4.0 which is incompatible.\n",
            "torchaudio 0.13.0+cu116 requires torch==1.13.0, but you have torch 1.4.0 which is incompatible.\n",
            "fastai 2.7.10 requires torch<1.14,>=1.7, but you have torch 1.4.0 which is incompatible.\n",
            "fastai 2.7.10 requires torchvision>=0.8.2, but you have torchvision 0.5.0 which is incompatible.\u001b[0m\n",
            "Successfully installed torch-1.4.0 torchvision-0.5.0\n",
            "Looking in indexes: https://pypi.org/simple, https://us-python.pkg.dev/colab-wheels/public/simple/\n",
            "Collecting Pillow-SIMD\n",
            "  Downloading Pillow-SIMD-9.0.0.post1.tar.gz (849 kB)\n",
            "\u001b[K     |████████████████████████████████| 849 kB 37.2 MB/s \n",
            "\u001b[?25hBuilding wheels for collected packages: Pillow-SIMD\n",
            "  Building wheel for Pillow-SIMD (setup.py) ... \u001b[?25l\u001b[?25hdone\n",
            "  Created wheel for Pillow-SIMD: filename=Pillow_SIMD-9.0.0.post1-cp38-cp38-linux_x86_64.whl size=1215598 sha256=4dccb7e223f6b9a5c44e519eee0dde3b74f01c5134cb700fdefad4916daee2a6\n",
            "  Stored in directory: /root/.cache/pip/wheels/69/43/70/7bfd3ad17119c79fb9455093978fda4d5eb8f750ad6a0db259\n",
            "Successfully built Pillow-SIMD\n",
            "Installing collected packages: Pillow-SIMD\n",
            "Successfully installed Pillow-SIMD-9.0.0.post1\n"
          ]
        },
        {
          "output_type": "display_data",
          "data": {
            "application/vnd.colab-display-data+json": {
              "pip_warning": {
                "packages": [
                  "PIL"
                ]
              }
            }
          },
          "metadata": {}
        },
        {
          "output_type": "stream",
          "name": "stdout",
          "text": [
            "Looking in indexes: https://pypi.org/simple, https://us-python.pkg.dev/colab-wheels/public/simple/\n",
            "Requirement already satisfied: tqdm in /usr/local/lib/python3.8/dist-packages (4.64.1)\n",
            "Looking in indexes: https://pypi.org/simple, https://us-python.pkg.dev/colab-wheels/public/simple/\n",
            "Requirement already satisfied: pillow in /usr/local/lib/python3.8/dist-packages (7.1.2)\n",
            "Collecting pillow\n",
            "  Downloading Pillow-9.3.0-cp38-cp38-manylinux_2_17_x86_64.manylinux2014_x86_64.whl (3.2 MB)\n",
            "\u001b[K     |████████████████████████████████| 3.2 MB 30.8 MB/s \n",
            "\u001b[?25hInstalling collected packages: pillow\n",
            "  Attempting uninstall: pillow\n",
            "    Found existing installation: Pillow 7.1.2\n",
            "    Uninstalling Pillow-7.1.2:\n",
            "      Successfully uninstalled Pillow-7.1.2\n",
            "\u001b[31mERROR: pip's dependency resolver does not currently take into account all the packages that are installed. This behaviour is the source of the following dependency conflicts.\n",
            "fastai 2.7.10 requires torch<1.14,>=1.7, but you have torch 1.4.0 which is incompatible.\n",
            "fastai 2.7.10 requires torchvision>=0.8.2, but you have torchvision 0.5.0 which is incompatible.\u001b[0m\n",
            "Successfully installed pillow-9.3.0\n"
          ]
        },
        {
          "output_type": "display_data",
          "data": {
            "application/vnd.colab-display-data+json": {
              "pip_warning": {
                "packages": [
                  "PIL"
                ]
              }
            }
          },
          "metadata": {}
        }
      ],
      "source": [
        "!pip3 install 'torch==1.3.1'\n",
        "!pip3 install 'torchvision==0.5.0'\n",
        "!pip3 install 'Pillow-SIMD'\n",
        "!pip3 install 'tqdm'\n",
        "!pip install -U pillow"
      ]
    },
    {
      "cell_type": "markdown",
      "metadata": {
        "id": "fo942LMOdlh4"
      },
      "source": [
        "**Import libraries**"
      ]
    },
    {
      "cell_type": "code",
      "execution_count": 1,
      "metadata": {
        "id": "DokFOdD1dJEl"
      },
      "outputs": [],
      "source": [
        "import os\n",
        "import logging\n",
        "\n",
        "import torch\n",
        "import torch.nn as nn\n",
        "import torch.optim as optim\n",
        "import torch.nn.init as init\n",
        "import torch.nn.functional\n",
        "from torch.utils.data import Subset, DataLoader\n",
        "from torch.backends import cudnn\n",
        "\n",
        "import torchvision\n",
        "from torchvision import transforms\n",
        "from torchvision.models import alexnet\n",
        "\n",
        "import matplotlib.pyplot as plt\n",
        "import numpy as np\n",
        "\n",
        "from PIL import Image\n",
        "from tqdm import tqdm\n",
        "import copy\n",
        "import time"
      ]
    },
    {
      "cell_type": "markdown",
      "metadata": {
        "id": "OIDLJuIXK_vh"
      },
      "source": [
        "**Set Arguments**"
      ]
    },
    {
      "cell_type": "markdown",
      "source": [
        "Here we set the constants.\n",
        "It is indicated to use a learning rate equal to 0.1, but then it is specified to use a LR scheduler"
      ],
      "metadata": {
        "id": "i3KLrugiY85i"
      }
    },
    {
      "cell_type": "code",
      "execution_count": 23,
      "metadata": {
        "id": "d5PkYfqfK_SA"
      },
      "outputs": [],
      "source": [
        "DEVICE = 'cuda' # 'cuda' or 'cpu'\n",
        "\n",
        "NUM_CLASSES = 100\n",
        "\n",
        "BATCH_SIZE = 128     # Higher batch sizes allows for larger learning rates. An empirical heuristic suggests that, when changing\n",
        "                     # the batch size, learning rate should change by the same factor to have comparable results\n",
        "\n",
        "LR = 0.1            # The initial Learning Rate\n",
        "\n",
        "# **********************\n",
        "# LR SCHEDULER -> None or cosine annealing (https://pytorch.org/docs/stable/generated/torch.optim.lr_scheduler.CosineAnnealingLR.html).\n",
        "# What is cosine annealing?\n",
        "# torch.optim.lr_scheduler.CosineAnnealingLR(optimizer, T_max, eta_min=0, last_epoch=- 1, verbose=False)\n",
        "# Parameters:\n",
        "# - optimizer (Optimizer) – Wrapped optimizer.\n",
        "# - T_max (int) – Maximum number of iterations.\n",
        "# - eta_min (float) – Minimum learning rate. Default: 0.\n",
        "# - last_epoch (int) – The index of last epoch. Default: -1.\n",
        "# - verbose (bool) – If True, prints a message to stdout for each update. Default: False.\n",
        "\n",
        "COSINE_ANNEALING = True\n",
        "GN_LAYERS = True\n",
        "\n",
        "# **********************\n",
        "\n",
        "MOMENTUM = 0.9       # Hyperparameter for SGD, keep this at 0.9 when using SGD\n",
        "WEIGHT_DECAY = 0.0001  # Regularization, you can keep this at the default\n",
        "\n",
        "NUM_EPOCHS = 160      # Total number of training epochs (iterations over dataset)\n",
        "STEP_SIZE = 20       # How many epochs before decreasing learning rate (if using a step-down policy)\n",
        "GAMMA = 1          # Multiplicative factor for learning rate step-down\n",
        "\n",
        "LOG_FREQUENCY = 25   #frequenza con cui viene stampato qualcosa\n",
        "\n",
        "#TRAIN_SIZE = 0.5     # split between training and validation sets\n",
        "PRETRAINED = True       # If 'True' the NETWORK will be pre-trained on ImageNet dataset\n",
        "FREEZE = 'no_freezing'   # Available choice: 'no_freezing', 'conv_layers', 'fc_layers'\n",
        "RANDOM = 42\n",
        "\n",
        "# Data augmentation\n",
        "AUG_PROB = 0.5   # the probability with witch each image is transformed at training time during each epoch"
      ]
    },
    {
      "cell_type": "markdown",
      "metadata": {
        "id": "9gwii0TBHvzh"
      },
      "source": [
        "**Define Data Preprocessing**\n",
        "\n",
        "Use the standard data augmentation pipeline: random crop, random horizontal flip,\n",
        "per-pixel normalization."
      ]
    },
    {
      "cell_type": "code",
      "execution_count": 24,
      "metadata": {
        "id": "QUDdw4j2H0Mc"
      },
      "outputs": [],
      "source": [
        "if PRETRAINED : \n",
        "  mean, std = (0.5071, 0.4867, 0.4408), (0.2675, 0.2565, 0.2761)\n",
        "else :\n",
        "  mean, std = (0.5, 0.5, 0.5), (0.5, 0.5, 0.5)                       \n",
        "\n",
        "aug_transformation = transforms.Compose([\n",
        "    transforms.RandomCrop(32, padding = 4),\n",
        "    transforms.RandomHorizontalFlip(p = 1)\n",
        "])\n",
        "\n",
        "aug_pipeline = transforms.Compose([\n",
        "    transforms.RandomApply([aug_transformation], p = AUG_PROB),\n",
        "    transforms.ToTensor(),\n",
        "    transforms.Normalize(mean,std)\n",
        "])\n",
        "\n",
        "transform_train = aug_pipeline\n",
        "transform_test = transforms.Compose([transforms.ToTensor(), transforms.Normalize(mean,std)])"
      ]
    },
    {
      "cell_type": "markdown",
      "metadata": {
        "id": "2qYIHPzYLY7i"
      },
      "source": [
        "**Prepare Dataset (CIFAR 100)**"
      ]
    },
    {
      "cell_type": "code",
      "execution_count": 25,
      "metadata": {
        "colab": {
          "base_uri": "https://localhost:8080/"
        },
        "id": "QfVq_uDHLbsR",
        "outputId": "efc6403b-a742-4ef9-f858-0fdacc9faed1"
      },
      "outputs": [
        {
          "output_type": "stream",
          "name": "stdout",
          "text": [
            "Files already downloaded and verified\n",
            "Files already downloaded and verified\n",
            "Train Split:\t45000\n",
            "Valid Split:\t5000\n",
            "Test Dataset:\t10000\n"
          ]
        }
      ],
      "source": [
        "from torch.utils.data import DataLoader, Subset\n",
        "from sklearn.model_selection import train_test_split\n",
        "from sklearn.model_selection import StratifiedShuffleSplit #funzione simile a sklearn.model_selection.train_test_split per shufflorare gli indici\n",
        "from torch.utils.data import random_split\n",
        "\n",
        "train_dataset = torchvision.datasets.CIFAR100(root='./data', train=True, download=True, transform=transform_train)\n",
        "test_dataset = torchvision.datasets.CIFAR100(root='./data', train=False, download=True, transform=transform_test)\n",
        "\n",
        "val_size = 5000\n",
        "train_size = len(train_dataset) - val_size\n",
        "train_dataset, val_dataset = random_split(train_dataset, [train_size, val_size])\n",
        "\n",
        "\n",
        "\"\"\"\n",
        "# generate indices: instead of the actual data we pass in integers instead\n",
        "train_indexes, val_indexes = train_test_split(list(range(len(train_dataset))), test_size=0.1)\n",
        "\n",
        "\n",
        "print(f\"Train Indexes = \\t{min(train_indexes)}\")\n",
        "print(f\"Val Indexes = \\t{min(val_indexes)}\")\n",
        "\n",
        "# split the train_dataset in train and val  \n",
        "sss = StratifiedShuffleSplit(n_splits=1, train_size=0.5, random_state=RANDOM)\n",
        "\n",
        "X = [img[0] for img in train_dataset.samples]\n",
        "y = [lab[1] for lab in train_dataset.samples]\n",
        "\n",
        "for train_idx, val_idx in sss.split(X,y) :\n",
        "  train_indexes = train_idx\n",
        "  val_indexes = val_idx\n",
        "\n",
        "\n",
        "# Generate subset based on indexes\n",
        "train_dataset = Subset(train_dataset, train_indexes)\n",
        "val_dataset = Subset(train_dataset, val_indexes)\n",
        "\"\"\"\n",
        "\n",
        "# Check dataset sizes\n",
        "print(f\"Train Split:\\t{len(train_dataset)}\")\n",
        "print(f\"Valid Split:\\t{len(val_dataset)}\")\n",
        "print(f\"Test Dataset:\\t{len(test_dataset)}\")\n"
      ]
    },
    {
      "cell_type": "markdown",
      "source": [
        "**Prepare DataLoader**"
      ],
      "metadata": {
        "id": "LEXR69qcqTih"
      }
    },
    {
      "cell_type": "code",
      "source": [
        "trainloader = torch.utils.data.DataLoader(train_dataset, batch_size=BATCH_SIZE, shuffle=True, num_workers=2, drop_last=True)\n",
        "val_dataloader = torch.utils.data.DataLoader(val_dataset, batch_size=BATCH_SIZE, shuffle=True, num_workers=2, drop_last=True)\n",
        "testloader = torch.utils.data.DataLoader(test_dataset, batch_size=BATCH_SIZE, shuffle=False, num_workers=2, drop_last=True)"
      ],
      "metadata": {
        "id": "PUm6joBVqWPL"
      },
      "execution_count": 26,
      "outputs": []
    },
    {
      "cell_type": "markdown",
      "source": [
        "**Prepare Network: ResNet-20**\n",
        "\n",
        "In this project, we use a ResNet architecture with 20 layers (n=3). For the federated scenario, it is better to use Group Normalization instead of Batch Normalization. This because there are many cases in which it is better to use small batches and GN outperforms BN in this setting. Moreover, GN is independent of batch sizes.\n",
        "\n",
        "Indeed, BN layers basically work by looking at the distribution of the batches of data and they assume that the distribution, so the mean and the variance of the data that they saw during training, somehow represent the global distribution of the data. This works very well if the data is homogeneously distributed, so one batch more or less represents all of the classes, while if we are in an heterogeneous federated scenario in which clients only see part of the classes then we would end up with models that do not generalize well, GN layers do not have this problem and channels are divided into groups (in this case two) and computes within each group the mean and variance for normalization."
      ],
      "metadata": {
        "id": "xwlRZLXcAKLN"
      }
    },
    {
      "cell_type": "markdown",
      "source": [
        "![2022-12-04 16_46_58-NVIDIA GeForce Overlay DT.png](data:image/png;base64,iVBORw0KGgoAAAANSUhEUgAAAkEAAACECAIAAAAY3GjUAAAAAXNSR0IArs4c6QAAAARnQU1BAACxjwv8YQUAAAAJcEhZcwAAEnQAABJ0Ad5mH3gAAAASdEVYdFNvZnR3YXJlAEdyZWVuc2hvdF5VCAUAAFXLSURBVHhe7Z11QBPtH8B/sI0aHSpgd7coChK2IiiKCraIGBjYGBi0IAoiKCYqIhYgJiDS3d2dIwZsrHf+bgGMGPC+7xhD7/OXdx57vvfs7vk88b3b/35DQEBAQEAMTSCHQUBAQEAMVSCHQUBAQEAMVSCHQUBAQEAMVSCHQUBAQEAMVSCHQUBAQEAMVSCHQUBAQEAMVSCHQUBAQEAMVSCHQUBAQEAMVfp2GBaLLS0tLYGAgICAgOAKra2tAAAwJdQrfTvsy5cvCxcunAsBAQEBAcEVAgICiEQiU0K90rfDUChUZGRkBATEYPDt2zdRUVEvL6/w8HDmLogBw8jIaN26dWDzwdyGGEhkZWXv3bsXGhrK3IZgob6+nkqlMiXUK/1aDwPHdBAQg0JDQ4OEhEROTg54QTN3QQwYN2/e3LNnT0tLC3MbYiCRl5cPDg4mkUjMbQgWmO7pB1BOBwRPw3BYbm5uPztlEP+FdocxtyEGEobDyGQycxviXwE5DIKngRzGTSCHcRPIYRwBchgETwM5jJtADuMmkMM4AuQwCJ4Gchg3gRzGTSCHcQTIYRA8DeQwbgI5jJtADuMIkMMgfgPNce4nd2zZe+NTIY7MY6YYGIeR61K/PHe2Mjt18uwVK2fPX3lNZGr3TCgAUxzl63HPyszU9KKFo/v7qJKWng77z5DrU796OFtdMqVH8yo4D91jNNjiKD+Pe9aXTptevAlGE1nM+WgG0mEUdE7AEzffLAyRwtzDFkJtRvC7R/bmly5b3HL5kFhHIHO81mnRPAWjaSH8w2gSUByLZgAchq9O/upx5/r5kybHjp+9av/0a2oNnvOVRyvm2wtmMWeu2j/5QitmsFoOyGEQv4kx11UUxIRFFQ1eVuJInL/i/wucdxixNPDO4fVKc2bPnTN11DBZueEKY6Yu2W4bVIFjvdkBTNbby3oqsyeOVhgmIykpLSc/cvx05a3mfrlYEidvVmJZ0N0jG5jRDG+LxiawrLVbNNvAaMa0RzOOFo1vDoaj0QyMw6jo3MDH5nvXLJo2TunMj1osibm/BygNaR/tj23WUNMyuu7uF5mWU1BS3UTkqKqpTXlBT67tW6sERnP6Ww2mlwueFo2DiS4tmmsP/SJScwqKORkNhx1GLP1hb6i1cf+1Bx+DYxKif364f36r2rL1Jo9jaztd2v8RWjEHN9KL+cksRk8dLOYRZ4vpP0PeYQAO2zoQfeNOcKWQwYNaF2y3a7W61okX6S0cbRI5AKcdhktx3b/R4MzdN0FRcQnxsUGvrm+ZKSmAQCpoWkY24tv65NSaAPONi5es23v25u27DpYXj+otGS0K54cJy83Y5pKE7rvv3k9wKW4HtA3O3PFiRPPz1Y2ts6QEwWg0LMIbWKIJvKbNGs025dGiCHo0evcSOqL+73DeYbjC8PfPHzhZGamOBEOGTzjsD1qD+X9doKBin57WWTx1qvIuK++IjJI6DGflBYIvDP/g8cDJ2mg5IxrjT1UtbBxGj2bTEno0bwYmGo46jJj91FB54pxdrmHZVS0EMpVMwNQVR97eNHn0NB2HmLpWToky+9nBpZPm7rof2qmYzVPoxaCwgzAvOsQdBt7dFtYfagZgroEFsBDLAS9kUKG2oopzs/MrONzj5QScdRi16sOlIzY+CYXgPU0/U0orKufNoZniAjBRzdsZzQRGGYQkx00aex2/JRVU1jWiG+tqKooyAu9smyImwA8Tn3PmO4c6nNSqj5eP2vjE06OhfSCltS7H23iWhCAYjX0aGt8ezWbN7tFMFadHc/prTSvHxs6cdxiltaGqvKysONR8uYwInL3DqDVhjnuWTZKTnbnr7o/MaiyjQjhNezTX1OWQYDTsHEatDbuzV4UZTQYYzYDcF5x0GCneduUYCdmNLtkNuI4bhZjvrKUgIatpl4hq5UhPh5Rgt2qspJzWvcy61k7FbFSUBItJQGE516HqL0PaYcSCN8eWjtNyLu4078JhiIXeJsvGazkXca6lgOg/nHVYa5LP26hycLDJ8lVS619tV0QKCKndympiOIwQc1N3v2t8JZbCchipIcFm9XAROJ+wilVSm17aIeHxlD5aXSoBT+p8SGuS77uo8uZO0QD1r/RHiQoILbfLZBZCiLHQPeAaVwE26/Qj6NCiWTMCCUazzDKxEcephmPA1sOoZW7aI0QR7BxGyHttoj5BUlBi4Yk3qdU41nrvzr+q605Qyx9skhcTYOcwQr7XcfWJUkISC4+/Salu7T2a/wAnHYb5YDheShipbptcz6IRasWjLSMlkAvMwmswXUrpdy12Ogbz4eBEGRGkuk0Sq61oxYyiFRNW3cL9gdjgOQwgYdDN/6E/S62Pur19lpyg0Iq7PeiFSm5fYqTgMX3cFOwBC3HcQStE804htn8OI5Pav0UqAdPS7QwBEra512kJSmtL979qp9uJ/aMzoxB7W1CnkP9DW0jFYzg/28Jph1Ewjd3GmkD1o83DkdIqNyLrGbNyQH2wu3toVbeOET76ipKUEAyx4EpsF2sQY28b7DB7k97ItgIIxZ9v7Nxm+RP8Zpl7QHqO5rHuCDGZZdcjUIyrFqj/RYum29UHRrNYRhiGmH85umEIOAy0BluHUYrfHFFSQMIRE3e/yEARer+IiHF3dhmYeaXWE9jd1ITiLxa7d1gGotguvFErHm5WYOcwWjSLFZEIMBqPdBSe85d0O5x0GD7w1GxZEYTU4jOfCpqJzFsFqPc/NkdWbMK+N0VoQqfzIMY77d1l5pmMAkXG3NUFQslXq736lgENGNYX7+IDTefIgcUonfbLB69dxk6wGJO5cuIT9nkVdimGK3DfYcTqOG/7M0Z79h86ckBv7Yq1Ww9ecv2Wg2Y2GJicH0+sT+3fZWBgsOfGp0oiWMNUVNw7V9uzRrt3gjsP3AmjLdlQSj9f01s0SgzO9z/YiIU623boG+yx/lFPopCaiqJ9H944us3QJQldFvH82sFNmsuUl63Q2X3C9l1aA6PLi8kJaC/k+qcK2s1AK8TN9hxLIRR6IduUuhTyvY4WUzcAfG12uM9ja9Od2mc/1OKaCoMeXNyzXk15yVKNzSauYdVgGWRUorfdyR1r1ZYuXqKmdcghoLTT9UOqjPa0PWNy+oqFxbWz+3V1DE45fs3DUtoabjJ4Yn7uN49tN7yX2Fga6XHdaDP9xLR3Hbd5l1rfhz0oNTEvbpw+a25la2tx6eSxU5cvWb/JxDHXvgBcVWrAS4fz+3XPvasEe170neSc1xcN9+wy2LV77959TPbsotWOwS7T5+kdiQ3EquiXFicO7tm+UVNVdeXmQ9c9oqvYNi//HM7ndHQBn/VAd8acLVbfi1raegekproGHLVb74CcYrlMRhgho/u0BEPs9J/UhoSHxisWrzX17FFjhCJ/881LVHfaB5f1lSSGz3q4debcLZbfCsDhGWMXGE1jj9FYqYCticzmx8XNHGs4BsVh2GjrlWPEEPyCc08HlDU31xSmJyen5Vage76mqY2Jj46sWrLu1MuUnjQGCuz61qXLd9oFFbNPvunNYWA0q5jR/ChraoumnE00/wlOOgyoD7ygIo9ECA2br38roKgF9AulJthyw6SRc3ffi6jo2iGjNiY9ObZm6bqTHkk9aYxQ/PXmNhU1A9uAImybqegA9UEXVRVFwWLm6dv9KGwvZvLIubvuhXeeK+AWXHYYNsPz1AYljf2OfpGJqelpiVGf3Y5pTB43dck2i+9ltCuSjEGVpT/ZPVlKVERixe1cWpYcQERXleSFWaySlxBFDtf3rCeQwWa3Ojvm+YFpInA+xMIzfuHRcXEJOTUNqR8czuurThszTBw5ZfvFk7rrN+/Yqa+tPltRXBgpOXzCUqNn6RiwoaIX8nTPFGkxEQlNh2xaF5dZiOVqeiE7XtXh2woxnI6E8yMWnvYLoxeC6ulaBuoTfR7dMl4xRUFaBKl6yvnaCRPTc2ZXzS8arhgvjpQcrXLhY8iz80aHz1+zsra8emzjdBmkhMLC4x/K28Zb1Krv5joLpqieeBOTnpOXl5X04aza2DEzN9pFNoIDJwCT7nP7gsHy6WOGSYhO2X7hhO4GxonNGSkhQj+xg09Se8nGIGY92b9M3cg9NC0nvyAvO9Hv6oapSqcDaMkAQFP6J9ebR7QWTFSQRoqucirEMltnYuiFpSqGTj5h8UnJdJKCHLdOkRETER21zi6yltF6AA1RLod3HbX3Do5NSIgL8bbcPGOEwrh5ura/atj27/4hA+owoCX7o/kmJQ3jR1HlmL5uP6Dxw4EJ4kLyOg+z2zu67ZDQxWGuRppKoMbSOmsMX/jpyqbFKgY2/ul9TEsBLTk+13QXaxq7R5b1K5qJEsLyOg8ymTOgnGAwHIb9dXHxcBEYH2z0xvPmJwzWqSjNmzVr9pwFS9fuufw8urL7lAStrt2MV/agMXyR/7UtS1X1rf1SK7G95Hr34jBsiNniESzRqCrNm82M5tKzqMrWXj71H8PRnA4AW/LDWmeyhKCAqMKM1UfvPHO9sGP12p2Xnv7KYY7oO0NqKgl/eGS1MqixRFSnrhW++PN1vWXL9S19kivA5rLzn9KKsdk0RVKIXswRR1oxa9YaXHoS3HMxXICrDmuJtts4bdjojXdiKjGM0wWITaXBNzSHCYuOmH/gRS6j4SMlXVMSRfALqNhmd2R6Y/wMxwjD+cV1X9SBDgMBSEnXlcTBwzTvFIE9Ltq8LbmlujDz2znaH/OLzd3v7BeVml1QmJ+dFuZhslhGAIaQmH7gdTHj+6L/tQC/wDKbrI5pGozfwbEitEI8wG+VtgMs5Ab9MI07hbSZMnYzd8SmmvLC72cW0Bb9FdZcfxeRllNUXl1bU5bsunW0CEJw+My1xnf9E/PKqlF1tRXZrw2nIBECiru8KhnBUAof6Y0TQwgus0qn9WzAcjG/zs4VExSbbxbWBI776Cf2/fwScQEYeGL7nHwiU7LzaScW7nFcWU4QPLFp+18VsluwIyVYqY6Q0LRva3qprcVvDDVNPjfSzpHUUlOSl/RQfywSwSe44m67wwgBZ/baxlY1Mz8TaAi5vmqsGBwmo2YeUNxCjxpAfTdbMVfrZmB+PX3GhYpDxVpqygohREZq3U1mnMh/ZoAcRqrP+eV5y2ST8uRhSEGJUbPXHn8SxxQzG4C6T4dnSEkvNP1c3LNgmBpbtPZUh8bwhb6XdRYv60tgpPrckNf2JpuXThmOFKJFY/I4tvdeABjNkZlSMgtP+Rf1mJTwLxkEh5ESrZYPR8L5+ISnbL3x+P23n2Hhv/yf3dy7WEFcQm7Mgh13I3vIoGFqbPHaky+T2zQGdhbMdZVV9K19U2gC661S2DuMlGSlRltmpEVz/dE7ZjQWe5coSkjSorkTUcN+nv+fwlGHgdcEHpXpb6U7XVoILiihMHrUBPVTL6KLG9nPzTI1tmTtiQ6N0boBW5ep9iwwOgC+LsvfeutMlmI8onorZqDhosOo5Z57J4sLyGi7d87BIJR77R4vDEdILbz0q4k2mKBk2qiAg/nODiN8PzqBrpc2h/0m0/RCc1in9TAA9WijpAAMNnavN7OpBaFgSnyOzkIi+OFyOg8L6KVTsmxUJLo6DCxkogiCxWG0QhbTHNaP9TBqqfNaKUEYfOqx71Xt7RU5115DEtw5Zs/rwqa2DwCqHmyQFoQLzL0UzZhTpla9NZo1fNisYx+rmJcSJdNWVUIQLrPjdVskAOqxjowQHDZmj1fHJ4En5ntsDmhOuJz2gzw2j7oQPh8aKyo0Ssclvo6ZPkBtCLjtEtrSvjZGjLm8QEKQn9VhlMLQXzltvU6gMdRiDd1gy6/+aKtWSvaDzePANt0/Lb+ktIxOaf6nE3PA6uIXX+GYwRmJDYzDqNWJ/p7ut6+aGKyYJiMI4+MTkByrdv5zOfvkIGL2wy0TRy459S6b/aJXu8bWnHqV2kjA5vtc0lFaqt/nCIwWzWswmuMGK6bLMqIZo3b+Uyn7K44ZzUnvrAb20fwLBsFhaO89YyUE+WDyOncjcmtaCGQAoJKwdcXRrvpTxQURouP0XFPRPTw+0KGxF8n1eGyB7xVd5WU7rPoWGAh7h6G9946TpEdzJyK3mpY8zogmxs1gugQtmq33UziWQsNhh4FQW4v8z6uPkwV78Xx8CKmxSwxsvxX0diN2aOx5AqoVU+BnvnWpyg72AmMA9oL9L2iwFmPztddiBhTuOQyoe7NzFKiqaadDu0x7UWs9dygKwfiE512Ooj2ySdNLTw6b2B+H/W58uoluEtNf7WuOIEBzsOlssMphIw9+QtPabrAQVQ47rNx1A1gyYo5ZTFuONkjD081ghwU+6URQY8dTRdi3O4cLw+FjD39tYOwkNRalxMWlFKNpkgFw5fF+droTwWGnsNajmrY6aHyuKwt+0pRTP1k+CTyxX2fmghHCFA1965lBd4GSd3+DvIig+OhFm8+4BeW3UKjgOK+2trkjH4SccH0xaFpWh/0m4cCC6f8GGsOt1o0Th8OlVS/TVo0YB1BL3HUURJATNHfuP2jUzh5tNaWFCxYsWm8RypmnqAbGYQChuQ5VU11ZVpSd9MPVaJEcePkJKug+zGZzI5KLvA8rz99s9S2vkdkNYAcJXRR630hTac3hc4dWz1febv0praNHwwaA0NIeTYDbIaVhQjB+MJoHWSzXEStgNEeUF2y2+prbi0//Fdx3GDNh8X8CS24mNrDmf5Mbfl1UlhGBw6TW3E1r7JoHSqddY8ZnjdYsXLrd0qc/AgNh6zAwGh15MQEwmhsJ9Z2jCTFbJocEo1l9J5VTEuO0w0gVv+4e2rjxsKP3G8cjGuPFBWBwUfmZ2ub+vWsMXRz+4Mhq5bWHThutWbRsu8XHpPLeBAYWE+JkrK192PENWIxmWzEbzT/ld59j5wbccxgp6doi0EyIGefCu75bgJxuqUyb/5PUe1UPNnyccdjpEFaH/QbqPbbKCcL4RbSfoGgfwC2HNb3YCo6eujgM936PPOiwUYafOh5kpYErj3l/z+KqhePTDy9PLACrRHD9w64Om9rZYeCJvdw2AtSdyMZH1R3V1QliTZjD1qkSCLiw1MipyptN7wfQRdZBTw5rA0BH2qyfIEEz2KVv7QYDP/TnqWlighJrbELik9PSu5JV1uPbm/45A57TAZCaS35eXwFWIUx+z7sen7XCZT43Xq93+U1i52x7dpDQWS/2zR4pLzN+q0tMOXPWvJ+A0ZQG31glD7bd8ru9u2cjgtCi2aB32StxAFbQB8Fh1Y+30K2heTsXzfJkE1gVLd+Pz5YWgsFGHfhY1dL1smRCQme/Mpw3WkF2nK5zRElzP6859g6rebIF/A8+AU2HnK7R/Dg5R0aYFs17VHO/fiO/TzjqMCoqzGGn8gxVk5cJ5S2tjeWZQQ+OqY0WFYALD59v9CKz514AExI6x9No4VhFsBbvhhU19dZNA4u5vWvpzOXHXrQXY6I+BqxLWjEeGZx84L6/cM9hxMjzs5FwPthIQz/6QIgFoPahloQAjA90x4A57Df+86GxYDslqfeSlhTCcw4jloe4muptMrR8HZKSXVRVl2S9XAK0St8O+43/cngCEgGT3OpRi+u8Wt4OQKjPD3t+cfMsWUEYTEhKcerS7Tc/F3ZM7LN3GNAUZac1AdSftMqlr0XNLI1m6/s9CkiEsKZjbpckPc4y4A6jQSi4ry0vgkBudK/o5nByxQ+L/fvMPWNLOz/IxRZ8ge+lDXMWaBmsmzV95enXvSTcs4FQ6KqjiBRAbnxY1tI145BcEWBxYL/5q5iSXluaf8sgzCVi/Q5NlBTiQyy1TG5geWwWhJJze9UwJIJfauuzcjapl/hCvyva8xZqGaydPWMVm0zFHmA/l9jqd2iSlBA/YqlFUqdxGBhNruMa8Az4pbY8rW3CM3f+NzjpMHz8be1pctLLr4VXMFerSU0VSd5n1BRFEQhZdavIXl6hgS/0N9+0YJGW/trZM1exyVRkgo931Jk+THq5eVh5WzHNYDFn1UbSi7GMqOX+mzq45zBKnoMGKA0+4eX22V2WHYCahxtAh8EnnQyiZRQPjMNaP+5VFIYjZl+Mog+secph9LTE+eNn6DmF5dfR8yMo2XZqNKv0w2GtPvtHIxGI2Rcimjrt7wIZU12Q9N39vO7c4UIwuMjwmQbu6W0DYnYOA5pj7LUnSiJg0svMvnQyGHg1+xuPAxslhZ1vynoY/pFqK2sBTjSyXHHYb1zgyeniwiP3ve8yDqOiwh2PHbr2MpIxy9s3uAKfSzqLl+nb+qfkZQU67VdTWv/PNYYLOjVTUmTk3nfVna85MJo7JrRoivoZzT9mEBxGyXdaS/ufiUe+VHde0KWWutKfix7NZhxGE9hmWhKHX1JuZtC9g5pL1pu+6pfG2DsMjGadvBgY55HPXf6HWuqmQ/sb3hyHUcB+z2hx4XEHP5Q1d1QVBVvy4eg8GWGE5Cb3wkZcj/WCL/x0bcsy1R1WPgk5mUEuRiuU1596wU5jlEK3zWMlRMYZvi9p6uhVULClH47NlxVBSOo8LGjouZgBhIs5Ha2RF+fRZgxldJ4wcwPboE0zghofs+8j/ckipsMQoF46WhTCF2NGymA3h2k4dsrIY+MwSq6DuqSg0NTjP1D0i5zpMMRS64yOqU3CV+Nx9EK6OUzdsWDgHEZOu7NhjBhCdLVzQdtdDDpsef8cRslzXCEjJDT12Dd2mWzECHf3aPrbwgFSS3VB8hcHvSlg0yC5xim7lVFFPTsMaIl12DQJNJgUaLDCDoNRisPC8vCETHtNaSE4Qn7dnQR0p97C79+YlMc3Hsbje1Nqf+GOw1p8DoyTUNR9lMe6cACg4x+cMr7yPLSgS+IEtSY8ML6R1LkjBgIKzExHaZm+zac0WhIHQGws+OV8QF1pnSlNY303rW20+BycIDlys3su63oYGM1DU0Y0nVPAqDURgfENxG7R/BsGwWG/8Sm2K+SRCKSKVULnh7Up6XYaw5EIidV3M7rPhNEFtkSFkcRBr+vCELABZvvcWCfYOwyMxm6lvCgtmvjOAzFK+q0VI0QFJFbfSW/sNMv47+Ggw8hgdPKiQhOM/SpYHAZeNbUeO8ZIComuv9+jXGi5nFtoSRwfk+hJHER0Ycj9QyuV153sWWPkDPtVCmLCEw75lDd1Kgb1Qn+sFFiMS/4f7TAAm3p3vSI4BpBZ45TBOhKj5DmtlhOSUbkaUktvK6il91aB3oCPN/JHtd35mDRbDSlwFIfUflLLdBgl95YaeBhioXki6wIb02GTT/1kdRgp23ntcOHhK2ximI8DU8vurQabbfi4g341bZc8WIimtCAMLORxbVt+YK69GjhERCwwT+gr74Zafn99d4ehPbbQHDbRJKCTw3azOgz7fo+CCJxPUNkyFcMsBBNsOgv0uOBa14ouDpt8IpB10pmUc2+9AnL4CutIhpt7AO97dMP1yPYUC4BYH3VlmYSgsIpNBtNhpLirCyUEwe7A7byOiUFM/B3dyVKgwZZe/MxiMPA8Pc5bhzThW5Jt1OWEYDDRCRuu+eeDdwDjvykNyS9O7zC+H1v7D1pt9nDcYT18DlD/xWTOqKVnv5R0rDABmIyX543NHv/MYQyM2yBjyiPdTx53Teo8GAa/03yawJbuYAqMsZPWtP66Z6iutP6MV3pX09PoMZqvx+eOXnrGv6hjWEKL5sJhs0c9RfPo1AnXRPA6Ytn9rxkwh1FKXTcO79lhAC7n0fZJEkJSqhaRrK+mBeq8906UFFHc/KBbSgc+3xcUGDMLkcKsELrG7oMaW3/aM7WhV41Ryty06aOt7g6jRbNjMhiNikUEqlM0b/dPlhJR3OSW0j7//1/hoMOABl/jGdIi4mrWcXWsrywEap5uGyUpNudMEHiizH1t4Av8aALb3iYw+k6AlpTkarxKeb3py+T6rlcV0OB3eKYsUny5VWxt52KebRsNFnM6sLJLfXIBLjoMHBDURjvvmCaBEJ+2+1FyI7PRIxZ/MFmoOEnbOrCkbfkbF3VpATjCEpRXPer09us335d3zhkfN90yVQjODx+jY+35LaUGrHIA/Xb3SGE4TGLZRb+kjAR/FyefArDOGQ7jF5t/9E1GI8NtQEOMy87ZIybq2P4sa29ecFGXF4F2EpRXOXKXUch5eiHC9EKsXoGFkGiFvNszil7IBd/E9AT/+04++Wx+KYeSZrVMElTvNNOQjpQ8arETTZWwYTs829LmwXjqnm4CxQaT3e5JdyUh7Nws0MZ8YtO3Wbz8/P3TyztXTI9unAaOCOGT9jz65v/mRwaOTGU4jF903uHXaUwRAw2x93fPUZikbRNUwv6pWLyv4aTZe56lt7/5AR93dbHksOU3IuqZC5OYr0cmiQnwIeZdimmbj8QmOW2ZAhpMUvnC54L2XH7wb8uDrq9ZdyMWPI5Q+vHEIjnw5ESGTVbWOXjuurWNxeXjBqtV15s8jCjvV/pD33DUYdTKT5e3rFmnd8z2XWJbz4XakPTCdOOqffY/wNNs8wM+7/25ddNHyI6asWipiooqC8uUF86csdEutnMvFQ+OwLSVlm638uuWhUjXmMtBzSUbznlndpoaoFb5X9m6FozG5m1CNfPjwGhentZete/W9/yO+UIwmvPre4smppZDj5cOmMNwkWZKtIwIhT3eld3mBUl1MU56U6Wkp2xziqpuu0twGQ/0Jg+bvMnuV2nnSxtfSBfYdkuf5K5ZiGBdF4W4guMIrbNeaV07GSzgIi8vlhUBo9nt1XnYQoNUF+u0bRoYjZ5TVFXbmjEu4+G2KcMnb7INLumakfbv4aDDwAsn3HbDeAnZuUYvUtrVA2BS3fSmDJu02TGS9hZl+j4mzBHYtpsfErtmIYKjsaJQt8Orl2qdeZ3apXNEbYiw2zhRUnbOwefJdR3FpLltmzps0ibHiKpBeFMHVx0GCqux4NeT87pKU6crax04Z+3ocP204fate865/ciqxbVXJNCa/+H8irGicEFJxfFTpi9cbWj9NjrIXEVabqLSxmN2nsG5jbS8cErNl7NLhgnCRYZPnqe65bRbEH20wHAYbITGAeMdentOXDK/dHz3Rg0NnaNOXzJYyqAV8vHCqnFiCCF6IQtWH7D2jg66piozDCzkqN0rWiHg0WAh55SHCzELMXULKui8LESHWpP06Zn1znnSoIj4kNO2XL3/JrKM0JDx3cPeCIwQxseHkFc9YvfkR3YLtuDXi9vHlyvQd45aedrxWWAupjH5yaHF8kJwhOiI8bOWahlZvPyZ4HdhsYwgTFBmkuoeu8BSsMFlOAw2Qn3/oe3giZldvXRit7amps7Ru5/Ta3prw/C+h2aAwescvn7P48Mn31d3z2zRWH/kfghNe5TaxE8eTmfWThCF8/+PT3T61kt3nwcX4PFZj/Wn0c4GLjNr7Y59BwwP0ti/Z4fOyiXT5aXXMN7nQcWUhT02XTcdjBMmKCYtN3zEqOlqBhceBuXWc+yJR846rPrD4dkyIiISIybM1dhmfO7q1UvnL1wyt3vkF53X8ZYBam2w5abZI4RhfP/rCX7Z9ffABpI1GmKcve6q3TafUtmk0dM0dt94/WbLENb3JVKrPx6ZK4cUkRgORqNnfO7K1UsX6NH4do1m8xx5EfbROIMjAw41q5x3GBWV+v3dc8fT6yeB/Tu+/wmOWXncxtXjbUgehsSiGGJ99te7xqvmz1LZamr3yPP1M+drh7RXbjxk7wdWaef7jRh3W2/NbmvfbgJjAo4jQlyPaOlaBvfwvkQwmh/vnt85vWEy2EbQozGxvu/h3S2anG93jVd3ikZn5UYje8bDZ8yj/jucdBjtbXfJ7y13qc2Zp7HzjNV9j9evHt8+t3Ot+rq9lm+TuoVNir+zY/0eq4/dBMaEhC4OfXBMW9ciqKHzsBksJuWD1W61ufM0DE5budCLOb9zHb0YWqYs52qn33DZYSC0JZm02J++Xi9fer71+RwUEZ+aW9lE7PwGDAq2Kjs24P0z1/uPvL+GJeZWY0jo1KBv4QlpucWVdS1tXWhMRXKgt/s9l0fvAuNzaxntR9tc4pF3CVFBvm9evfT0+vAtLDGrrNuT5PRCAt8/ZxaSUwUWkvbzW0RvhdT02EgBhKbq0tzkmIjwsLCw8OiknKKKBhyV2Fxblp8WGxFO2xsRm5ZfWttCpmDrygrS4yLpOyMTMgtKUeDwk4guTQ318XBzff4xMDopuxwcyLVWxPo9uef86N2vtFJwHATKmTGXOMnYOy6y48QSskob+3gvKbUyNTIuIT4hIS4i+MeXL99/hkTEZ5ai6dUBENDVZYUZCVH0eMDQswpL67AUaktpShTtbMKj45M6SIyPiQRPJyKjqq0uSc2Vucnhn1+737t779Frv6ColPyq5n+WwdA7nJ1LJDUUJgS8drW7efXK9Vsuz98HRienZ+WXN3TqAgCEutwE+tn3SHhMTvsUNxMquig1raCut44EEV2SkVrYQGY9hB6Nl+stCzAau3vPWKPpOKof0fQ6b/aP4LzDAEJzbWVpQUY84xTCI+PT84rLKuq6Np0AobEsOyHY99WzJ4+fPHvh9eFrSHxGSX33KqWii9PSClCtbVOIPUCi13V9D3PZbdEwK5QeTRHbaH6xRhOXXkyLhm2h/wKOOgyE0ooqyogJ+PDq6aOHj2hhv/8cHJNWiOpB9tSm4rR0sBZ7FBgDEro0M62wntTpKRwa/6AYrsB9hzGgELAtTWh0M5b9/QeQCdjmZkzb3AKVROhhEA+QcS1NTe0HgbDkdBAI4H+im1qYqz498S8LGQAAsEqam7EsNx6FgKGV2raDJacD13Fi/QmJSqF/BpWMxzbT/4ptnf87qCR6OBgcpz8YhOPrYeCX2dxQV1tbW1ePBkdFg3PbtcNb0QzcXGI/AS95dD2qFlXX2ALebYNcGQMeDacdRofWWDXWoWprUfVosMkaqCuKS8X0h8Fy2MDB4jD26hqKsDiM/Uz/HwfHHQbRC4PtsL+LAXHY38cf5zAA9Uhbkvas2Ymgpi6PUg9tANQTWiIILcORY4lRQwDIYdwEchg3gRzGEf44h7VEnJ9PewpNao1zVp8/YDGUaIm8uEhcgJ9fcvXdjMF5L9mgADmMm0AO4yaQwzjCn+Qwak2Ml9O1w5vVlygtWrRk5faTNxwfvI2lZcgzDxiqgCf2xvn6kfYTO3H9tpt3TPUArD7xHpDDuAnkMG4COYwj/EkOAwgN5QXZGelpDNIzc/KLKgbxd204BkBoLC/I6XJiDX1kI/4hQA7jJpDDuAnkMI7w5+V0QPxRQA7jJpDDuAnkMI4AOQyCp4Ecxk0gh3ETyGEcAXIYBE8DOYybQA7jJpDDOELfDktLSwOv7GsQEIPBxYsX58yZc/r0aXNzc+YuiAFDT09v/fr1ly9fZm5DDCQLFiw4cuTI1atXmdsQLGRmZlIo/XqGqG+HJSUlXbhw4SwExGBw6tQpdXV1ExMT5jbEQKKvr6+rq2tqasrchhhINDU1Dx06dObMGeY2BAupqan9HKH27TAsFltSUlIMATEYgJfyyJEjQ0JCioqKmLsgBgwzM7Ndu3aBXWDmNsRAMnHixHfv3hUUFDC3IVhobW0F+vd+L2g9DIKngdbDuAm0HsZNoPUwjgA5DIKngRzGTSCHcRPIYRwBchgETwM5jJtADuMmkMM4AuQwCJ4Gchg3gRzGTSCHcQTIYRA8DeQwbgI5jJtADuMIf6PDqNWJ3z59S6hkvgyYWpP8g7bZy+9JUjCVGWF+zxzMjl31LhzYn8KE6MygOIyCzg189tA/p7WHH0T9pwDYkhj/l6525ufPX7F2euITXdIy6D91yRbedBhYhbGfX7ndYlbhx6jiZt6twn8AVx0GYEvjvng+uHXtAq0SH3+IKmoi/RkvDf8LHQbUvzVeOFvrVgKW0UKhP5oozdGyi8f03GABDck+D2zPbleZPl5BRnrZzUTM3/PDJzwAlx1Gbcr7+fSG4QblmROWnAusx/235gXAZH+4ZqAxf+r4USPkpKVlhyuOmTR7uf7NT3lsLrbBhvccBmByPt7Ypblg2vhR8u1VqLrjhl9Oy5C/D7nmMACb62OxZ+VC1kqcpbr9mk9W0x/wc7p/ocNICVcXikmucSnBkWjdEHKKxRJxyTXOha30ze4Q0RWFuamvjaYj4fyIBdcSIIdxEy46DF8Y/uGF+z1rI1VFJIIfPuHIV1Trf2leqLVBNzcrK6/dbWpu62B7/ZzxlsWjwGsIJjJ8tr5rEpoXWw9ecxi19qfl1mVL1+46dZVehYe3LhktiqBX4Y77CUP9t2C55DBq7S/rbcuXrd158qqNPb0SlceICcBgIsNmbb8XV/efrnFe4C90WNMbgxGik458a2T8zHPLx30jRSce/tzQa5tCyXNQlxCAQQ7jNlx0GAVbV1FSXFwQfHmZlBDsPzuMkHxXV3OP/ef43PLahsYGVFVZfsp3h61TxAT4YRLzzn2vbeW9SWkecxghxVlv5d5bn2Jzymvr26rw9rZpEoIwmPjcM1+rsWz6nUMD7jiMkHpvx5q9dj7R2WU1zEpM/XFnxwzwGoeJzzH1r2ghDu0pxb/PYeQ0C2VxMc3beYxxFyXbXl1STP1WDrthGANK8d1V4J0DOYzbcH89jFrmqiUnAu+Xw3DlqZHhkZk1PfwcKSHWUnefS0x5px8TJ9bFWq0aLgLnE1GxTkLjee5C4i2HEeKs9Q7ciypt6VSF9XE2a+SRCLAKLRMaWofySIwrDiPE2+44eC+iuIl19ppYH2+3fiTYmxJZdjMGhR3aw9m/xmFkLLoehaqtrS19aaCIHGXwIre8GtyqLX97YKyo4o6nOeVVtXVoHLul4r4cRsG1tOA4s0RKxWOwbPNLADKZccEBJFy3oyhExtDyT2IQHFbutrGfDqMWPzdUWaRy5lNdK4m5qw2gIfjhg+CKbgMFXNRlJWkh8EK6EtOA47lvi6ccBjT8cn8YXN7tfsNFX1WWFYEh5l+KrIMc1gdAQ+hj9+CyZkKXSsTHXFMZjoQj5l0Mq8EM7EBwoPlbHEbJfWK4UnXZUmXlxZNlETDhEdOVlijTWDJ1mABMaMQ02uZykzeVbLIO2TiMVBXrZX/B9Px1G+ubF4y2b9171vlHPpZCP4BSHv7s5knD/XtB9h2+6PDka1ojIxUSXxj60uGc0f79R64+j6lu68MTq2I8rU8fPrBLd42m5vrtxyxfxVW3/wg1gKtKDXx5+9y+Q86xzbUJL812rddQX7vfJQYNaotSG+dpdeHiTTsHexvzM6fOXjO3e5uFI3OpzR9YeNphlByHFbJI2W0vqrHd5mNI6Np6sEvUdTc5xUpFVhghs/lxccccDqU+7ctzl3vu3mGFzIw7fE1q4JtHTrdvOz/y/pXb0EvOLEfhrXEYrQpbKd1OnZxirTYMiZDZ5F7QRGD+J6Uh/avHfbAGQwuY6XaEmrQg78fOYA26ewfn1BM408HkKFwZh7GrxFRbTXlRAWltt9wGHPPOAivx2wtXF3fvkHywWWFUYnrQ2yfOjmAlvgnOruPNlOy/xWHUygCnyxfOnT17SmcGEiE1T++46Wna25FNdWeJCkjM2XL8FLh54UFYA5t8054cRq0OuLFl8TS1E68jkjOzs9Ji35guHzduzmaH6EbaIUBrXVGMm8E0GXEkUnaNTWR2OZrZFFEwqPy3xrNHL7/gm1lDH/oBDTFuJntN7L0CI2OiIwNfXdOePkJx4qJtDmEoAoWKTvV1uXZg9dyJitLik41cH5zdt2vDHDkBOFxi1Z0sDDbzuZGappFbcFJGTk5WeszHK1rTF58JaBziC95MhqzDegZAfzScKC48YqNrZlNb15iQ/erSece3n19d0Fm64ey73Np0X/vzF61dX374/uvnO4udGhr6dj+ruLJ6xms5HT0BoH2MpkiKjNBySWtkzsYSsj2vXLjj7f/q4maVDWe8s6vT/W5fNLO+/4Jeg5a7NDX1bQK7j4kHGy7ldPQEgPY7PF0GOWKDc3I9czqAkPP66sU73p9emumqap32yqxM93M0AyvR4/23X0HvrHavXKFv/aOMBxfP/pq5RFJLXXVVVVV5jMVycZEF54IKSitom4m2KyVFZp/8kldSUVlVVY9l11vrwWGUosfbxosjBJdZZTAypYGW4NNzxATFFlwOb2ZO6pFrA0wXSAjwIyYc+lSF7/hwctotjUlat5PBDja4BaB+XFk1T+v6j7w6PM1o1NaayOtq0oII5JhNLmkYIgFdkZ/+9byyuACMX2LmDguvkMTkyA+O503Mnic0YuOt1eQlNW9lNTPiomILPfdrmnxuxA/tGQImf5bDgPrPx2ZJSy844VfY0rY+gQm5ceCyT2YVusRNZ7iUwvJdhw9fexEYn1NWi8bicI0ptivlZCYfeFPeX03+F4aAw4D6LyZzZWXmH/fJZ17xvzGhFgevfEyvbCx5qKsgo7h8p/Fhc4+AuOyy2kYMWIOpt9bIy03e71nc0jZq4xEGz2FA/deTC4bJzT/2PgfN7EphwqwOXf2QWt5Y4r51lOxIVYNDxubPf8RmlTIqMc1hneLwKXtfFKDxvFWJf19OBzH41FTR4dteVjOGxcSoC3PEpDc+LMP10cvtwWHUSu+DM4bJzTz6sYo5UUHJtFGVEITL6nuBo276Mb8BTJrjegUhuOBIvce57R1BUoqtxgy9R7kYRlpJzkPdcVILTD+nF5aWldMpy/c7PksMwc8vudopi/EcW9MLPRlhOL/shrspKNB0VHxjVXk12JfHfz40VlRo9GbXxLq2h7brv9s7h7b8GWtjf5TDiDmPtk0eudjEK6O+fXawJfD8jsuBVVgSKd1WTVZEQG75ee+U6ta2/g610l1nGFJ0uU16ExdSQHjfYaScJzumjl58zDOtrm16sCXwgsGVgPIWIinj1orhooJyqme9kiqxbXc0tfKRroKYmKpVMq9lgAyaw0i5T3fOGLvk6Ivk2raOdcvPS7uv/ihtIpIyHVbJiwnKqZzxTKjAtC1IUKuebB0pIa5ikcB7GSB/icOITTWVdDek3F4rLTLT5FN2EV0XWa6b5JDj973OLCwpq0BhKGx/sKanuURSfX5CZGRiYQPNHQCuIuGT/dZJoGaEtR7VMJ49ox9V8d5wKlIALq1iEUWfYwRH7QmWanP2vi5i3GbUEncdeWHkxJV7jIwPt7NPR23RgvnzFq63ZA7qWr30ZYXh8DGH/Os7jbAouS7r5UUEJcYq651/+LOghUIFB4TV1U3sz2VIwUsOo1bHvH/q/sCtHdebetNEBcUWHrBzcmHuouH+KYVA6n6nk4vfmSxboHPTP4dlfYtS9Mrc4VdNK4la/cpgjJjwOP0nqaj2ZVDwWgm/MF9KWHrTI66MInjdYeSS98dVF+nc+JTV0QmgFHlev/2rCkOk1HjuHi8pMna7e1INy5wHIcJskSxSRvtBPq8NIQbJYeSSD6fUlTZd90lHta8SUoq9bt4JrgQ7vjWv906UQo7d9iChiiVJjRB5eckwUZmNrjntq2c8w9/hMHKKs776siWLFy+eP1YCBhMdNXuRErixePGCCdJwmIj89IXgpsoRz3K2i5Zscjpo4MrjPrpaX7e+++yDx/H5ogh+wfUPWRz2m4qOuqYqIwhHTj38sYI23sNHX1dZdNi3nDn2I/48OVVUQGK1VXBMQnI30kvQjFV+HMNh44986/JoJ7Hql53uFHEEQlhm9AxVvXNugfk0kf0h8JLDSAm262dNHDt6VDvyUkL8fDARGcWRzB10Jmx72IQhMP+oDVzWi6Mb9cxexXXOtgdaq0urMRQq0PLNZIaEsPzWZ4XNLGM6cpqd5gik2NKb8VzJYuRth+GyX5lo65m9jCljfV0X0FoD1iC4o+X7ydnSSPktj/NYn1ogp9uvUhQTU74eg+K1JMZBcRgu2/PE5u0XPaJKmpnzNjSYlUgBWn6YzpMVldd1z2aVFTn99ppR4uJLzCPAg5j7eIa/w2GU4i93r12+ZHbx6OqxggKjVxifvXDRDOSU1mRhAQWV/WfOg5tXH4Wzy+hg5zBiRdjDs/pbjaw8fyZk5JejkqyXgwd1cdhvAJ/3WG+sCFxAQdstE0NqjbiybJnpj+q2rmLr+93yIgjhFXcKel10Zusw8PNR2cGPzmrPkBGEwYSlR89U22X9taiv2dEhAi85jFIV4enqfPeOYxu3L2+ajBQQnbf7pq09cxcNp3eJ+M4zueTKQBujA1c8IovQLA0HK8Toq4tlRCQ0HTrNGZKzndYpiiLnXwzhzhPRPOwwcuVP20OGV56HFzb2nKVJirm2dJiohMatZFbdk3PuaY0WF51//mdVp74DL8B9h5Grgm8dPnjlWVh+Qw+PNIKQYm+oyotJqNsm1rHMGZJz7muPkxCbdzagvLm3Nmpw+FvmElvqamqqq8s+HZ2KlFrvnFZSUQ1S/vPCQnExdau44vKq6uqaBrYZHT06jFoVcEN30cQZWx1/5aLo2YWUbDs1ye4OA68B1PeT88QF4JKLr4aUB55bqnkltGMYj/9kNAaJgI/c/baih2EgCVWFov8mN3uH0SC3VObE+t8/s2nOMCEYHCk/d8+TDOb7IIc2PLUeRsa3NKFZqI+3VJMWkd38IKeitpG5jwaGwDqRS0VFOp84bP48tIBN6wtCybm7Vh4pMs8soo61Ac5yXjdSVGzBhdAamsIolO5fPGfhVYdR66JcTI+YPwvJb2CZZ+0EJdd5w0gx5LwLITXYjm+NnOWiNUZcfMG54Eqawga+Bv8JXHYYtS76/plj5k+Dc9uXErtCyXXZOFpCdO654CqWB8vJ2fd1xkuKzz8bUEZTGG9V4l+W0wHUv9Qbhpx+6lcTQ0OtnwzHiI7Z71vf96vrujuMnO6kNVYMIbrKqYCRmkF32PIeHfYbaEl2WCsvBBeZpH/KYP4qq9j6jmcOKVl08yEUNjong8N75l4G2NSnlo8SCLS97BxGjHzyJAZL6/YDxKbK3Hg/W93JoBKl1t3L4dEXy/4jhnpOB4BOfHT2yOUnwbngV856DLUm8mdCI4nRUgA1r3aOEROeZOxfyTIYJ6U5rlYUlVh2LaIWRwGwUU5WbwowXR9W5Sg86TCwCp+cP3rlcVBOHcsyFwi1Nio4sYFIrzCg5vXuCZLISUa+rOnfpPQ760aLSy69GlqFJQPY6Hs23vnNPPPQCTcdBjQlPbtocuVxYDbtWmLupEGtjf6V2EBgVGKt175J0shJBz+WNLFUYoaT1jhJKeXLv8pbSAA25r6ddy6ah57P/6scRko0XygmudalhDHPRim8u1JKVNkitesKVw9Qiu6upL8v0bzNYdgPexRE4HyCS63S2wY8mODTtGRCwbWuFV0cRpt29DeZKyEgICk3Zo19ClOiDFoTLVVp04Bik3Usvha2DwYpDSmvzu00domppU8/tb6mOQw27vCXzg7D+x7beDOq/Q2yAAEVfmmphKCwik3G0H+z92A4jFJ6fz2HHAZgMj0vHTV7GJCF6tT6kjEV0U/PnHJNBL9K+m5swImZEiKK218UsTTA5HSawiRVLePAsRm18ft5/auBA/yGQN5zGIDJ8rpiYvbwe0bntheswphnZ01dE+oZNzM28NQcaaTitmf57c/dgQdl3KUpTOVmdC0WrMEfF3eZB/DQ6wG55jAAm/XG/PilB9/Sq1tZl8rJ2IrY5+dPu8ahGOll2KDT82VFFbc+yWl78g6EnOm0YayklMr1iCoMmdoYcGnPte9lLIobdP4qhzV575RnedsvIej4ZLER21/V9OPxc2L8lYViAvzwySd/opl/HXp2JriHT3ymgc3rrwGfPZ2vnTXZOE0EAR6098n3L28DM8GWh/7HdICWVMf18kII2Q0uWe3PBtEB8MXvji2QEeCHiYyYrrrlsJnlrVvW107tWaeuZfIgrJyRZk2tcNsgLQTnl9F9VtapHcP7Gk6eu98jo30Ih4+/ulhymOr1cJ58N8E/hfsOw0VeXEh7H6rC3nc1fRijd4fh8z+aac1UkBszW1lNQ0OTBfXlS+bO2mgb3dYskxJuLpMTkV5zN4ulAf5NDDk7W0p05snA2lYSOvau0VHXONZ8u4GA1xyGL/C5rDNbcRhYhcvVe6hCm8hqxjohKdFy+QhR6dWOaaypCMTQ8/NkxWYe/16FITbFOR82cY3hzrPi/YNLDsMX+F3dPHfk8DGzlvRQibO1rMIrGEuFpCQrDQVx6VUOKazv8CKGXVw4THyGydfyZkJT/L2jx+9HVbTNPPEEf5PDyOmWrG/7pVY+3CiDnHcxsu1RyZ4BWnKCXrlc3jJDEsHPxycyZZOZ0/MfmWgKpSnJ3XDRCCEYQkxh0lxVnUMWHgGxH88pSQvABOWmqO+1Cyjt4hBCrsMK6XHbnxe0P7rSBrWl+NeDE6unSoOjMSFxmeHyCmNmqumfcw3IriNQAWpd0kfX63uVRgjC+P4HH6584Ob9F98z6Bn9IHjfQ9Mnz1fbcszC9ZXP509e985v01x3yPlnUac3pQ5ZuOgwKir1x/sXTme1JkuCfRM+wXFrTts/fPU+DPy+2BTdi8OoqBCbrfMURGD8/+sJftl1d1MamJ1datWzrSPFZNRs4joNsam1AZc1xk7VtXzkanXu1PXnUeXdLhxOw1MOo6JC7bYtUETC2VShzNo7iczVQ2qVx/YxkrLLLaM7JR9SUYFXV06Ypnvz4X2rc6bXn0eU8dT0OjccRkWF2esrjRIFGy9mvXWCX2a1Q1wNY+6HWv1Cf5yUrKpFJOuKIvgJQddWT5q++cYDF6vzp68/Cy/pvcHkOn+Tw4DmwriQ0JQK5roEgC9LDg1JKGrpo2tLbq4pzkuLCf0V/PPnz+DQ2LTcoupmEgAApMbixKB3T+7de/z2W1hcRmkjnoIti/rw8K6jm1dgUjGa2OUJLVz4+QWzjd6X9dgTJDWVZ8b/8vFwvXP7jtuL99/DEnMqmhgpAAChsTwvPS78VzA9gvD4jPziKub/gZdYRXJoVEx0TEx02M/vX758C/wZEp1azHbpe6jBRYcBBHR1WXFuSnTbVx2dklNQUoYCO6ls6hJoLU0OCwlPb3/nZQcAoTaLec30RHBEZm17FwfA5359/MA7srT9kVIGVGxFStBHr7c+X4IiU4u48ZXylMPAKsyODeutCsFhKaPCAHzetycPvSNKWjqnfYI1mPrTB6zBz2ANFjbw2MQENxwGEFA5sWEh7Csxo7rtzapgJX5/6u4dUQw6qnMlVqb99HnzzudzYERKYX1bnfMMf9VcIucBKARMUxOG5d6g4FvQjc09JLYDDd9PLVG7EMT6yqmuUImtzehGdHNrz4mvPUOl0A+mknCYpsbGJuyfMIPYAffnEgcDMq6Zds10/+IA8H/AC6LH/xsAeDKno1/0WoNo7tXgP4GbOR39goxracb19PAHQMbTKxHsujP38BCQw7gENs11yzytW/Fgb5q5B6I//B0O4xWGrsOGIjznsKEJ5LCBA2hJeHRql8G+oxdtblsdXjtH1eRDIc89Z8nrQA7jJpDDuAnkMI4AOWzgoBS66YyUEEGKy4xQVBy3zMSzPQ8Dot9ADuMmkMO4CeQwjgA5bOAAWrPfXd21etlS9Y0HbnhGFjXx4JQ8zwM5jJtADuMmkMM4AuSwgYSCqS7ITE1Nzymu7eU9VhC9ADmMm0AO4yaQwzgC5DAIngZyGDeBHMZNIIdxBMhhEDwN5DBuAjmMm0AO4wiQwyB4Gshh3ARyGDeBHMYRIIdB8DSNjY2TJ0/Oz8+n/wANxMBia2t75MgRDAbD3IYYSObOnRsWFgY57D8COQyCpwHHYcOHDwfHYZDDuIClpeWBAwcgh3GHcePGhYSEQA77j0AOg+BpoLlEbgLNJXITaC6RI0AOg+BpIIdxE8hh3ARyGEeAHAbB00AO4yaQw7gJ5DCOADkMgqeBHMZNIIdxE8hhHAFyGARPAzmMm0AO4yaQwzgC5DAIngZyGDeBHMZNIIdxhL/VYdTq5B+ffyRVMV8kT61NCWTZ7IPWknCve7aWVjfOG+/S33XA5Irzp/RG1j+lYKoyI/w97lw9eeNdYQ+/hwnRb4aCwyjovJ8ej7/ktvb9Q/cEVFaoz3Mnyxs3bzm5f0ppIPHWazR52WHkhoxAr4cON8wuXLFweOAdmo/uqfIAbGncVy/32zcvmV23c3nmG9P1p515iMF1GKEuO9zPw9n6hsWtu+5+ySgCm3YKQMe/sLh070cZhsibd+Bf6jCg4d1RpXk6txIwjGYH7XtCeb52+2YvUKpD7hzcesDCKyQhJSUh4u0N7WnDR4yesc46ErxXaAcAjal+j+wvGKjNnjRSTkblZmILj371QwPedhi1KT/Yw9JYR3XO5KXng+pxvbRGlIaMT06n9det1j1848GHX/FpmXnljQQea1551WGkihC3M3pqSgsXzp8+Vn64vOKYSXPU9zj8LGslsVQggM31tdy3ZvHMSWMVh8nKDJMfNW7qPI1dlp9yefMeHCyHURozP987t2vDGl3ja67vguNSM3PLGvCUHqsIqA+32zpvlMLaW8l1WApzJ2/xlzqMlGi+SExyzb0ixj1ATrVQlpBY7VTY6ZboAUrp+5PLpygfe5dRi6M1PwCuOuHVmVVTx6uYhzcz7hOA2FiWl5n4wnCaKIIfscA8vsv9A+Bb6X8K0S9412H44ihfzycuNoeWj0Qi+OETjnxFtbJpjSh1CS/MtqvNnrlU/5rHz6T8avBa4clLgDcdhst4ekxv1ymbJ36Bv8JCgz89urRpppSggNjoNTYRHf0GKirEdofasjX6JmYWNpZXTh/crDQKvAXhSPl5O90SwTaaeRzvMBgOo9Qlel4x0Jg7a+n2q08D4vOqmgi9TAVQa39a6EyTEYQJLL2ZgIIcxks0ee+UF514+EsDgf61tPjsHyU2wfhzPWOTLcQk+5WKomP2vq/Gtw+8KZjy9JioxOImCuuLJCh5DhqSgrBuDqOiftk7+NWwG7dDdIV3HUbB1JYWFRTkBpotlRKCsXcYtTbC2VB96nDZ6TvsP6dWYMg83IPhRYdRa/xvHLf0isiuxjBmBcmY6vRXB2dJCsHFVjikNuAY1wUh9b7+6t02HyIzS6rr6utqKopzEj7f2jpVQhAGk5h/7lsVto/+KffhusOoqCjXw6tmystN32brm1jW3McsK6Xiq/mevdrzxYUQkMN4DXKa5VJxMQ2HXMa4i5LjoC4ppm6X3cdlTsl1WiUnKDjrXARzzMUeSrHTqu4OIxZ/PKMxWdu5iPfuJ16F59fDqGWuWnIicHYOIxS8NV0xSUpQfP7RV0lVrTz+K3K86DBciu+b0KLGTiNXKuql/hhxQSFVmzaHERJst+93Ci8G22X6EXSIqBir1QrgYExExTK+vpXXmmAuO4xQ+OHc2mmywhLzjJ/FloF9KeZ+NpBKfC/uPHTb79YWRQkhyGE8ArkVXY+iUfpq50jkSH2P3PJq2mbFO8Nxogrbn+aAm3Vo9jN9+K/G40TgAguudp0fBG8qAp7E/Ccd0GGruziM2hDrsneBvLCQ5p1Cdg6j4jFYttNMAJnMuIgAEq6161EUIpE3r7D/CO87rNxtI1uHUUrfmSxRFIEjJhg8TUPx2upXd3jRYZTmukY8tXPVATVP9RTFZZZcDq7G0qc0gIYQd7eg0m73JS7qirKcCAwx3ywSheXaeKefcNVhlLKPpsvHiAkIjN/unliF66szRcj3PqN/xPlnYbXX/rFSkMN4BEreM+O1mmrLly9fNm0YAiasMGupiiq4tVxlxghBmLD8TNqm5qm3Vd1n+iiFH24cO7RvxUQRGD+/7PxNe/YfMGSyf+9ug22bN2hf/dbEYpGuDqOU/7DZozpeAsHPB1NQ3r4X/Htjh6B6IvNSIlbHedmdNzHet01r9RrtnSdsveJr2i0F4KrTgjzvmh086hLfXJvoeXW/9uqVG43cYtEkym8KKt7L9tIVK4c7jrduXDhz8eZNhw/ZuL76WEOHIe2w1ljbVaNF4fyCc079KG9pqS3KTEvNzK9s4tlMOV7N6egCIfep/ty5Old9stuGZwCxsbquldKtXsmpNurDkQhp7Yf5aDyvVTo3HdYa57BhoqQAv+AsE//Cxuba4qy0NNql2HOPGZ/98vgOE9cwcFiLfW84DnIYr0Ct+H7n4tnTpqbHN04XQUjO3XL0xElTkBM6M0UFxGdtpm+evR/aQ8Iz0JQfHRzgbbpEDMEPH6/v7Pvl+48fP75/++zr5bhnnhRSAC6p96oe33ExdnUYgC1PCXmwZyoSzo+Yd/zNj58hoRFpVfSOOdAY637ywAl7z+9hEeEhX59d0ZouP2qKssGdcBSBQkWnfXK7abRuwZRRMhKTjdweXTDcvWG2nAAcLrn6bhYGm/XisObKg/cD41MzM9NTIt9d0pqx5ExgYx/rekOIoeyw1lAzJTlhGB9stLaZ5bkDuquWKystUlqiunKLscXr+JreFtMHiSHgMACT99nGQFXT0CW4sM/OAID2M54qJTJig3MKDyZ1cNFhreHmqoqicD7YqA3nbpw13LJajX4pqqzUPXTjVUxl56dCsKmPj+w48TCylJZqjYMcxkMApObayory8tKom8vFReafDcgtKisHN+NtVkiKzDrun1NUWl5egcJ0Ss5gAlApFGKF63qal2ZdCG9sJYKXHolExGMrPXYoCMNhMvpevTkM/ASAlHRjsYQAv4CGYwEG7P4wSgHqAq+tXbDB/GsOCk+7ISnYqjDz5dKCCNFxW1zTsSR8Y2l28qczi8UEYPySsw1uegbFxoe+uXX6yLnHsQ3YBFsNBUkNu0zm+hwFk/dir4bJ5waWSIY4Q9hhpGSr5TSF8QlP3XbT3cvH/9s3/zf3L+1YMEJcSn6yyv4HcfW8pjGedhipMT/i/b3zu1bMHikuIj1BadPZ5/E1vT59CTR8OzlfTmbe0fe54ICDuZN34J7DSCl2KxXFEOClOGWLudurj/5fwUvR9bLBIgVJ6RGTlu51iappZVYk0Jxw32i76ZOYcsaKGeQwXoQYbDpVdLjeC2ZyITH64lwxaa0Hpbg+Ei2o1Q820Lw0+2IUS04H/rPxWBE4TNbgTe8O+/2bnHyT6bCO9TBK7qOtE6Tnn/JPLywrr6BTnu9rMlMUwc8vteYeI8sEQHtslRaC88uuv51Iy+mn4uorSiobCVSw7HGiwmO2PEiqZ/ZIqXVfbZ1CWv6ctbEh7DC09+7RYgJ8sBFaDiFZlU14MvjNEZurc385bpkoKoAQn7LrSVafyUHchZcdRq1N/urlbn/pyDb1qbJCcD5+QZlJqy5/KcWwvW1Jec92zhitdNgjuRbPe2Nebjqs6b3hJGkhPtjw9TaBaeVoHNhaUIktNXkhd7dPkxQSEJ+s/yC1AQc2GkBDpOO+HWc94ivbnAY5jIcgNtVW0R2RdmedtMgMk0854DAM3M522zwMOX6fZyY4DKus63EUxoCNw77QEj3+pcOopY83KYggJ67af/ioSRvHDDctXzhv7tz56yzDm+k2an29Q0YIDh9j5M9aBlhKtvPaESKCUhNU9S89/lXYQqH+pjZXVqC7rwsMWYauw5gJi/8TWHIzGY3vCB4g1QacWURLx5fdcD+ricBLp8XLDgPw6JqqirKSwpyUKL+7BxYNE4bzC43Sc89krVwWyKU+puqLtM0/pqN4cNaWBtccRi1/qDtSQoBPQMk8phbTYSKAhAq6sHQYEg6XWeeUUtdKQoXY7Na/4JlU1WYwyGG8BDnVZfcqdVUVFRWlCVJwmPiY+UuXgRsqKksmy8BhyJGzlcFNjeNvKjoe/erCADiMGHxqmqiAxCqLgIjouPiuJBc2MB4mwnnRHTb+yLfOs/oAoSLIetNkcQRCRG7cHA0Ds0c/6SL7gxjCDqt215ETQfxPcMWdghYC6zUFNH05Ml1CkB82xsivBtspn3WQGSI5HQCxseD71RUKSARccY93RQux+x2Ly/E6tVnv/LNIWrY9mxt6sOGew6qf6o2UEOQT0LDPrG9lvY+Apm8n5soKw2CjD7wvzfG/vn3L6afh+bWNTc1toF7tHgM6bPGVsMJqdHNLK5F9J3+Q+HscRin6fPvKxQvnzxmvHCMoMErjoOnZc+dBjq+fJCwgv2zPqTPgptmDnjI6mAyAw1rf75YXQQivuFvQPrvYE+wcBl6D+JqMgAentabLCMLgwrJj52jus/te/Ae9onHoOgzAfjwwVkyAD6Fik97UeahAzrbXlBWB80vreVRhemiAB40h4jAQAJ93T2ekqIColltJU9eMQ3LVL4cjBy8/Cclv6DnvjjfgmsMArJ/xFGlhfkT30RQlx3GtvBiCX2rLk0zPw3MUFScvVFHTYEFtlrwQgp9PYvwi2v7VJh45aOZT5bzC3+MwgNiMqq6qqizxOzoVKbX+bmpxWSVIadCFhWJiapYxhaXgVlU9d+cS8Z+Mxogg4KP2vKvsYfhHQlWhCLRw2DsMBCA1l2dG+Tif0p41DBSZqOKC/c8y8X2++HGIMITXwyg5t1eApoJPMvlR1/l/qCUuG4bRvndDH2gc9m/BBZnOlkYq7n7TZRxGrYtxO3vM/MnPnDoenUNsg2sO+03Jc1qnKI6ATzziX9HcubZKH2waKS4AH7nvbY7PDX2ddStXdEZz3igkgp9fcuLi5eorVqw5/iKnEXLY4AI0vNo2HDn9ZDAzUan108GxomP2+/T1mikQTjlM/XZ+m8MomXZqtMNG6rikdHrDAAg2zcP6SSL9TcLsHEaKfvY8DksCdwFEdHlW9AfLTZOQCLj0epeWVl5qGv8DQ9hhAC7BYrmcMFxU7VZq54EYJd1WTVYYIb7qbia0HvZvwfgZT5ZW1L6f0ci62NiU/Nzs+GX3H1m1nR/jpdbGhCQ1Enub7eA63HMYgEuyWakoJiCqahXXeSBGyXRYpSAmIL7CPrm2siQ7Mz2tC/Eu28dKCArMM3kTGpuSll5Qi+O1l6X9dQ4jJV1bJCax5h5zvo1S5LRKSlT5Zko/fliAWuXGzK2PZHWYPziUgsOkd7zu5LCiu93eNUXJtVen7VtontC2D2iNv6kiQ3uj29Qt1t+LsG23HaUx1ctsz2HnqGp6V5KR0wEbd/hLZ4fhfY9pW0Sj2/QL4GtCLi6REBRWsWnGEhn7hjo87zBK6f0NPTsM/HbTXTaPExWU0bgV18jyxQH17/ZNEBdW0HZNRfOUwnjVYT1890BDwGmlsUuOs2bNA9jst9dPXnL9klrd6aVeZGxl3IuLZ9zi63hrkp17DgMvxYwH26ZICsuoWUXUsLywBGj4cHCaDFJhg1M8ipaX2B2c/5Ep0sKCUE4H79D0lva23yPfGhnp54SgE1PERmx/yfISX7ZQMqxVwHEULT2Q+a5gGo2eO4YLw/lF1riUsLz1nhhvriQOHjvl5M8OxTR67x4F6k5q+WX/5Mzkb48efC7EYfLfHJ4vI8APQyrM0txx/KrNbcdbFucMtVduPObyq5QhNWql2wYpQTi/zJbnZZ3WzfC+hpPnG77MZP7sC+2tceZLJIctMw/F/ilPOfO8w3BRZgulhGAwxX3varouagLE6jA7nYni0jN3P4ivbZvZwmU92j5ZbuJGq6ASxouSeAcedBi1+rvVvi1b95y5/TGp7S6lNqZ5X9q6drelb2bHI3b4wk/XtswfNWL8/OUrV69Zy8LqFaoL5260Cq/isermosPAS7Em4vbWadKyMwxcoirbXI7PfrprhvykDTe+FbB0yzsBOYzXIKdbsb7tl1rlri2DnNtpYNUTQFN20Os7B5VkBfj5+ITGbzjn5BVZSsDmh75xu7hurDCM738wOeVDtk+D8ltJzbnBXm7Xts2SRoDHIqdtueLyMjCriZbuTqn0O7V4mBBcVHGm8qodZ+9/y0GTqZTmgkCXoyunSIGjMSEJOXnFkeNmqe047fw1oxZPBah1Kb4PLQ2V5QXBMhAjVA5ZPfAMyGz7wU28r9H0yfM1tp20efja7+tnb7dL+ivXHnQMKGj+Y5ITeddh1Lr0QB9Pl4ubpkrSr4oJG845PvbyiShsZXnTF0CoTf1os09j7rwVuy85ebx75/nA+vjW1RsOWL1LrOA1g/Gowz4enTdMFCmlOG3xut0nr1hY3jC/dv2mrat3cHoltm1ei1oXfnvnYtpvrfD9rwf4ZVY7xKN47Y3L3HQY/VJM87U3XLlg/oqdFxyfv33n+dDm5La1Wvst3sTS3sjBpm4gh/Ea1Ka8yMDAhDL6OzHA7xVXEh8UEJ0Ptvm9Xt4AEV1ZkBET/OP792/fvgeExmcW1mAo5ObqwqyEsED6zh/B0Wl5lc1kKqmpqjArKSLoB7j32/egiKSs/Ao0kZ4pQm0ujvF/7mzvcM/DLyytAkOm7wWIjSVpUT/ePna6ZWvv/MTL/2dMZhnz5xEBfENJdnIUs2CwjNTsggp028tjqWXxQaHhoeERESGBXz9//vI9ICgssaCeeXJ/BLzrMADfWFlSkAl+/4xvOjAsISO3sKSmpct6ARWHKkgO//z6ibu7++Onz1+98f0elphfCzaovPct8aDDACIqO+LT0zs3r1w4d8nC0f3155Do+OTMotpOP2ID4KvTI4ICaF9ET3wPTq3ivZeIctdhIFRcXWFKxFevp4/ol+LLNz7fQhPyatp7Aj1BQWWGBQX8iAEHajzWBWjjr5tLHGyopNamxsbm7hPzVCK2qaGhsYn2AAZzV99QKPSDqSRcS2NDAxrz5/0uGc/PJfYPgIJrqqupqqyqqWsCv3te/ZZ4dD0MIGHRKLD2Kqtr69GtPPu81z+F6w6jA16KzfW19EsR3cq7l2L/gRwGwdP8IQ4bIvCow/5QBsdhfxyQwyB4Gshh3ARyGDeBHMYRIIdB8DSQw7gJ5DBuAjmMI0AOg+BpIIdxE8hh3ARyGEeAHAbB00AO4yaQw7gJ5DCOADkMgqeBHMZNIIdxE8hhHAFyGARPAzmMm0AO4yaQwzgC5DAIngZyGDeBHMZNIIdxhL4dFhsbe/ToUWMIiMFg//79o0aN2rlz56FDh5i7IAYMdXX1RYsWGRoaMrchBpKxY8fq6uoaGRkxtyFYSExM7Kfd+3ZYRkaGra2tFQTEIGFhYcH8F8QAY0mHuQExwEBV3QvZ2dkUSr9e0Ni3w3A4XDUEBAQEBAS3wOPxQP9ehAWth0FAQEBADFUgh0FAQEBADFUgh0FAQEBADFUgh0FAQEBADFUgh0FAQEBADFUgh0FAQEBADFUgh0FAQEBADFUgh0FAQEBADFUgh0FAQEBADFUgh0FAQEBADFUgh0FAQEBADE1+//4/8q6Swvtfj1IAAAAASUVORK5CYII=)"
      ],
      "metadata": {
        "id": "IkHiNm3X0iHe"
      }
    },
    {
      "cell_type": "code",
      "source": [
        "def _weights_init(m):\n",
        "    classname = m.__class__.__name__\n",
        "    #print(classname)\n",
        "    if isinstance(m, nn.Linear) or isinstance(m, nn.Conv2d):\n",
        "        init.kaiming_normal_(m.weight)\n",
        "\n",
        "class BasicBlock(nn.Module):\n",
        "    expansion = 1\n",
        "    def __init__(self, in_channels, out_channels, stride=1):\n",
        "        super(BasicBlock, self).__init__()\n",
        "\n",
        "        self.conv1 = nn.Conv2d(in_channels, out_channels, kernel_size=3, stride=stride, padding=1, bias=False)\n",
        "\n",
        "        if GN_LAYERS:\n",
        "          self.gn1 = nn.GroupNorm(2, out_channels)\n",
        "        else:\n",
        "          self.bn1 = nn.BatchNorm2d(out_channels)\n",
        "\n",
        "        self.conv2 = nn.Conv2d(out_channels, out_channels, kernel_size=3, stride=1, padding=1, bias=False)\n",
        "\n",
        "        if GN_LAYERS:\n",
        "          self.gn2 = nn.GroupNorm(2, out_channels)\n",
        "        else:\n",
        "          self.bn2 = nn.BatchNorm2d(out_channels)\n",
        "\n",
        "        self.shortcut = nn.Sequential()\n",
        "\n",
        "        if stride != 1 or in_channels != out_channels:\n",
        "          if GN_LAYERS:\n",
        "              self.shortcut = nn.Sequential(\n",
        "                  nn.Conv2d(in_channels, out_channels * self.expansion, kernel_size=1, stride=stride, bias=False),\n",
        "                  nn.GroupNorm(2, out_channels * self.expansion)\n",
        "              )\n",
        "          else:\n",
        "              self.shortcut = nn.Sequential(\n",
        "                  nn.Conv2d(in_channels, out_channels * self.expansion, kernel_size=1, stride=stride, bias=False),\n",
        "                  nn.BatchNorm2d(out_channels * self.expansion)\n",
        "              )\n",
        "\n",
        "        self.relu = nn.ReLU()\n",
        "        self.stride = stride\n",
        "\n",
        "    def forward(self, x):\n",
        "        #identity = x\n",
        "\n",
        "        out = self.conv1(x)\n",
        "\n",
        "        if GN_LAYERS:\n",
        "          out = self.gn1(out)\n",
        "        else:\n",
        "          out = self.bn1(out)\n",
        "\n",
        "        out = self.relu(out)\n",
        "\n",
        "        out = self.conv2(out)\n",
        "\n",
        "        if GN_LAYERS:\n",
        "          out = self.gn2(out)\n",
        "        else:\n",
        "          out = self.bn2(out)\n",
        "\n",
        "        out += self.shortcut(x)\n",
        "\n",
        "        \"\"\"\n",
        "        if self.identity_downsample is not None:\n",
        "            identity = self.identity_downsample(identity)\n",
        "\n",
        "        x += identity\n",
        "        \"\"\"\n",
        "        out = self.relu(out)\n",
        "        return out\n",
        "\n",
        "\"\"\"ResNet\"\"\"\n",
        "class ResNet(nn.Module):\n",
        "    \"\"\"\n",
        "    - block = Basic Block / Bottleneck Block, in this case for a ResNet-20 we simply have a Basic Block\n",
        "    - layers = a list which tells us how many times we want to use the Basic Block (look at Table 1 in the paper)\n",
        "        f.e. in our case for ResNet-20 will be [3,2,2,2]\n",
        "    - image channels = #channels of the input, for RGB it's 3\n",
        "    - num_classes = 100 because we use CIFAR100\n",
        "    \"\"\"\n",
        "    def __init__(self, block, layers, image_channels, num_classes=100):\n",
        "        super(ResNet, self).__init__()\n",
        "        # Here we're just defining the initial layers and the relu\n",
        "        self.in_channels = 16\n",
        "        self.conv1 = nn.Conv2d(image_channels, 16, kernel_size=3, stride=1, padding=1, bias=False)\n",
        "        if GN_LAYERS:\n",
        "          self.gn1 = nn.GroupNorm(2, 16)\n",
        "        else:\n",
        "          self.bn1 = nn.BatchNorm2d(16)\n",
        "        self.relu = nn.ReLU()\n",
        "\n",
        "        # Essentially the entire ResNet architecture are in these 4 lines below\n",
        "        self.layer1 = self._make_layer(block, layers[0], out_channels=16, stride=1)\n",
        "        self.layer2 = self._make_layer(block, layers[1], out_channels=32, stride=2)\n",
        "        self.layer3 = self._make_layer(block, layers[2], out_channels=64, stride=2)\n",
        "        self.linear = nn.Linear(64, num_classes)\n",
        "\n",
        "        self.apply(_weights_init)\n",
        "\n",
        "    def _make_layer(self, block, num_residual_blocks, out_channels, stride):\n",
        "        \"\"\"\n",
        "        - block = same as before, either Basic Block or Bottleneck Block\n",
        "        - num_residual_blocks = #times it's gonna use the block\n",
        "        - out_channels = #channels it's gonna be when we're done with that layer\n",
        "        - stride = the stride, because we halve by 2 every time we have a conv, except in conv2_x where we have stride = 1 \n",
        "        \"\"\"\n",
        "        layers = []\n",
        "        for i in range(num_residual_blocks):\n",
        "            layers.append(BasicBlock(self.in_channels, out_channels))\n",
        "            self.in_channels = out_channels * block.expansion\n",
        "\n",
        "        return nn.Sequential(*layers)\n",
        "\n",
        "    def forward(self, x):\n",
        "        out = self.conv1(x)\n",
        "        if GN_LAYERS:\n",
        "          out = self.gn1(out)\n",
        "        else:\n",
        "          out = self.bn1(out)\n",
        "        out = self.relu(out)\n",
        "\n",
        "        out = self.layer1(out)\n",
        "        out = self.layer2(out)\n",
        "        out = self.layer3(out)\n",
        "\n",
        "        out = torch.nn.functional.avg_pool2d(out, out.size()[3])\n",
        "        #out = self.fc(x)\n",
        "        out = out.view(out.size(0), -1)\n",
        "        out = self.linear(out)\n",
        "        return out\n",
        "\n",
        "def resnet20(image_channels=3):\n",
        "    return ResNet(BasicBlock, [3, 3, 3], image_channels)\n",
        "\n",
        "\n",
        "def test():\n",
        "    net = resnet20(image_channels=3)\n",
        "    y = net(torch.randn(4, 3, 224, 224)).to(\"cuda\")\n",
        "    print(y.size())\n",
        "\n",
        "test()\n",
        "net = resnet20()\n",
        "print(net)"
      ],
      "metadata": {
        "colab": {
          "base_uri": "https://localhost:8080/"
        },
        "id": "7s6IqZHr5Uxg",
        "outputId": "42f9f8a3-f276-4640-bbbc-fc3cdd804562"
      },
      "execution_count": 27,
      "outputs": [
        {
          "output_type": "stream",
          "name": "stdout",
          "text": [
            "torch.Size([4, 100])\n",
            "ResNet(\n",
            "  (conv1): Conv2d(3, 16, kernel_size=(3, 3), stride=(1, 1), padding=(1, 1), bias=False)\n",
            "  (gn1): GroupNorm(2, 16, eps=1e-05, affine=True)\n",
            "  (relu): ReLU()\n",
            "  (layer1): Sequential(\n",
            "    (0): BasicBlock(\n",
            "      (conv1): Conv2d(16, 16, kernel_size=(3, 3), stride=(1, 1), padding=(1, 1), bias=False)\n",
            "      (gn1): GroupNorm(2, 16, eps=1e-05, affine=True)\n",
            "      (conv2): Conv2d(16, 16, kernel_size=(3, 3), stride=(1, 1), padding=(1, 1), bias=False)\n",
            "      (gn2): GroupNorm(2, 16, eps=1e-05, affine=True)\n",
            "      (shortcut): Sequential()\n",
            "      (relu): ReLU()\n",
            "    )\n",
            "    (1): BasicBlock(\n",
            "      (conv1): Conv2d(16, 16, kernel_size=(3, 3), stride=(1, 1), padding=(1, 1), bias=False)\n",
            "      (gn1): GroupNorm(2, 16, eps=1e-05, affine=True)\n",
            "      (conv2): Conv2d(16, 16, kernel_size=(3, 3), stride=(1, 1), padding=(1, 1), bias=False)\n",
            "      (gn2): GroupNorm(2, 16, eps=1e-05, affine=True)\n",
            "      (shortcut): Sequential()\n",
            "      (relu): ReLU()\n",
            "    )\n",
            "    (2): BasicBlock(\n",
            "      (conv1): Conv2d(16, 16, kernel_size=(3, 3), stride=(1, 1), padding=(1, 1), bias=False)\n",
            "      (gn1): GroupNorm(2, 16, eps=1e-05, affine=True)\n",
            "      (conv2): Conv2d(16, 16, kernel_size=(3, 3), stride=(1, 1), padding=(1, 1), bias=False)\n",
            "      (gn2): GroupNorm(2, 16, eps=1e-05, affine=True)\n",
            "      (shortcut): Sequential()\n",
            "      (relu): ReLU()\n",
            "    )\n",
            "  )\n",
            "  (layer2): Sequential(\n",
            "    (0): BasicBlock(\n",
            "      (conv1): Conv2d(16, 32, kernel_size=(3, 3), stride=(1, 1), padding=(1, 1), bias=False)\n",
            "      (gn1): GroupNorm(2, 32, eps=1e-05, affine=True)\n",
            "      (conv2): Conv2d(32, 32, kernel_size=(3, 3), stride=(1, 1), padding=(1, 1), bias=False)\n",
            "      (gn2): GroupNorm(2, 32, eps=1e-05, affine=True)\n",
            "      (shortcut): Sequential(\n",
            "        (0): Conv2d(16, 32, kernel_size=(1, 1), stride=(1, 1), bias=False)\n",
            "        (1): GroupNorm(2, 32, eps=1e-05, affine=True)\n",
            "      )\n",
            "      (relu): ReLU()\n",
            "    )\n",
            "    (1): BasicBlock(\n",
            "      (conv1): Conv2d(32, 32, kernel_size=(3, 3), stride=(1, 1), padding=(1, 1), bias=False)\n",
            "      (gn1): GroupNorm(2, 32, eps=1e-05, affine=True)\n",
            "      (conv2): Conv2d(32, 32, kernel_size=(3, 3), stride=(1, 1), padding=(1, 1), bias=False)\n",
            "      (gn2): GroupNorm(2, 32, eps=1e-05, affine=True)\n",
            "      (shortcut): Sequential()\n",
            "      (relu): ReLU()\n",
            "    )\n",
            "    (2): BasicBlock(\n",
            "      (conv1): Conv2d(32, 32, kernel_size=(3, 3), stride=(1, 1), padding=(1, 1), bias=False)\n",
            "      (gn1): GroupNorm(2, 32, eps=1e-05, affine=True)\n",
            "      (conv2): Conv2d(32, 32, kernel_size=(3, 3), stride=(1, 1), padding=(1, 1), bias=False)\n",
            "      (gn2): GroupNorm(2, 32, eps=1e-05, affine=True)\n",
            "      (shortcut): Sequential()\n",
            "      (relu): ReLU()\n",
            "    )\n",
            "  )\n",
            "  (layer3): Sequential(\n",
            "    (0): BasicBlock(\n",
            "      (conv1): Conv2d(32, 64, kernel_size=(3, 3), stride=(1, 1), padding=(1, 1), bias=False)\n",
            "      (gn1): GroupNorm(2, 64, eps=1e-05, affine=True)\n",
            "      (conv2): Conv2d(64, 64, kernel_size=(3, 3), stride=(1, 1), padding=(1, 1), bias=False)\n",
            "      (gn2): GroupNorm(2, 64, eps=1e-05, affine=True)\n",
            "      (shortcut): Sequential(\n",
            "        (0): Conv2d(32, 64, kernel_size=(1, 1), stride=(1, 1), bias=False)\n",
            "        (1): GroupNorm(2, 64, eps=1e-05, affine=True)\n",
            "      )\n",
            "      (relu): ReLU()\n",
            "    )\n",
            "    (1): BasicBlock(\n",
            "      (conv1): Conv2d(64, 64, kernel_size=(3, 3), stride=(1, 1), padding=(1, 1), bias=False)\n",
            "      (gn1): GroupNorm(2, 64, eps=1e-05, affine=True)\n",
            "      (conv2): Conv2d(64, 64, kernel_size=(3, 3), stride=(1, 1), padding=(1, 1), bias=False)\n",
            "      (gn2): GroupNorm(2, 64, eps=1e-05, affine=True)\n",
            "      (shortcut): Sequential()\n",
            "      (relu): ReLU()\n",
            "    )\n",
            "    (2): BasicBlock(\n",
            "      (conv1): Conv2d(64, 64, kernel_size=(3, 3), stride=(1, 1), padding=(1, 1), bias=False)\n",
            "      (gn1): GroupNorm(2, 64, eps=1e-05, affine=True)\n",
            "      (conv2): Conv2d(64, 64, kernel_size=(3, 3), stride=(1, 1), padding=(1, 1), bias=False)\n",
            "      (gn2): GroupNorm(2, 64, eps=1e-05, affine=True)\n",
            "      (shortcut): Sequential()\n",
            "      (relu): ReLU()\n",
            "    )\n",
            "  )\n",
            "  (linear): Linear(in_features=64, out_features=100, bias=True)\n",
            ")\n"
          ]
        }
      ]
    },
    {
      "cell_type": "markdown",
      "metadata": {
        "id": "KEyL3H_R4qCf"
      },
      "source": [
        "**Prepare Training**"
      ]
    },
    {
      "cell_type": "code",
      "execution_count": 29,
      "metadata": {
        "id": "9sjq00G94tSc"
      },
      "outputs": [],
      "source": [
        "# Define loss function\n",
        "criterion = nn.CrossEntropyLoss() # for classification, we use Cross Entropy\n",
        "\n",
        "\n",
        "\n",
        "# Choose parameters to optimize and which one to freeze\n",
        "if (FREEZE == 'no_freezing'):\n",
        "  parameters_to_optimize = net.parameters() # In this case we optimize over all the parameters of AlexNet\n",
        "elif (FREEZE == 'conv_layers'):\n",
        "  parameters_to_optimize = net.classifier.parameters() # Updates only fully-connected layers (no conv)\n",
        "elif (FREEZE == 'fc_layers'):\n",
        "  parameters_to_optimize = net.features.parameters() # Updates only conv layers (no fc)\n",
        "else :\n",
        "  raise (ValueError(f\"Error Freezing layers (FREEZE = {FREEZE}) \\n Possible values are: 'no_freezing', 'conv_layers', 'fc_layers' \"))\n",
        "\n",
        "\n",
        "parameters_to_optimize = net.parameters()\n",
        "\n",
        "# Define an optimizer. It updates the weights based on loss, we use SGD with momentum\n",
        "optimizer = optim.SGD(parameters_to_optimize, lr=LR, momentum=MOMENTUM, weight_decay=WEIGHT_DECAY)\n",
        "\n",
        "# Define scheduler. It dynamically changes the learning rate\n",
        "#scheduler = optim.lr_scheduler.StepLR(optimizer, step_size=STEP_SIZE, gamma=GAMMA)\n",
        "if COSINE_ANNEALING:\n",
        "  scheduler = optim.lr_scheduler.CosineAnnealingLR(optimizer, T_max=NUM_EPOCHS, eta_min=0.00001)"
      ]
    },
    {
      "cell_type": "markdown",
      "metadata": {
        "id": "AxYUli9d9uYQ"
      },
      "source": [
        "**Train**"
      ]
    },
    {
      "cell_type": "code",
      "execution_count": 30,
      "metadata": {
        "colab": {
          "base_uri": "https://localhost:8080/",
          "height": 1000
        },
        "id": "ZcoQ5fD49yT_",
        "outputId": "fa95a8b7-3f72-4ada-db25-11f42c8364c7"
      },
      "outputs": [
        {
          "output_type": "stream",
          "name": "stdout",
          "text": [
            "Current Hyperparameters: \n",
            "N_EPOCHS: 160\n",
            "Optimizer: \n",
            "SGD (\n",
            "Parameter Group 0\n",
            "    dampening: 0\n",
            "    initial_lr: 0.1\n",
            "    lr: 0.1\n",
            "    momentum: 0.9\n",
            "    nesterov: False\n",
            "    weight_decay: 0.0001\n",
            ")\n",
            "Starting epoch 1/160, LR = [0.1]\n",
            "Step 0, Loss 6.167237281799316\n",
            "Step 25, Loss 4.6609907150268555\n",
            "Step 50, Loss 4.632386207580566\n",
            "Step 75, Loss 4.606993675231934\n",
            "Step 100, Loss 4.592280387878418\n",
            "Step 125, Loss 4.595300674438477\n",
            "Step 150, Loss 4.604789733886719\n",
            "Step 175, Loss 4.623774528503418\n",
            "Step 200, Loss 4.629486083984375\n",
            "Step 225, Loss 4.601849555969238\n",
            "Step 250, Loss 4.624964714050293\n",
            "Step 275, Loss 4.612184047698975\n",
            "Step 300, Loss 4.610296249389648\n",
            "Step 325, Loss 4.6101508140563965\n",
            "Step 350, Loss 4.623154640197754\n",
            "Starting epoch 2/160, LR = [0.09998072690461457]\n",
            "Step 375, Loss 4.610291481018066\n",
            "Step 400, Loss 4.6048736572265625\n",
            "Step 425, Loss 4.598215579986572\n",
            "Step 450, Loss 4.617631912231445\n",
            "Step 475, Loss 4.6113600730896\n",
            "Step 500, Loss 4.605740547180176\n",
            "Step 525, Loss 4.611865997314453\n",
            "Step 550, Loss 4.611178874969482\n",
            "Step 575, Loss 4.608359336853027\n",
            "Step 600, Loss 4.605682373046875\n",
            "Step 625, Loss 4.593221187591553\n",
            "Step 650, Loss 4.621696949005127\n",
            "Step 675, Loss 4.607812404632568\n",
            "Step 700, Loss 4.603487491607666\n",
            "Starting epoch 3/160, LR = [0.0999325567037824]\n",
            "Step 725, Loss 4.610552787780762\n",
            "Step 750, Loss 4.609955787658691\n",
            "Step 775, Loss 4.600499629974365\n",
            "Step 800, Loss 4.602321624755859\n",
            "Step 825, Loss 4.606374740600586\n",
            "Step 850, Loss 4.603771209716797\n",
            "Step 875, Loss 4.611206531524658\n",
            "Step 900, Loss 4.605396270751953\n",
            "Step 925, Loss 4.600906848907471\n",
            "Step 950, Loss 4.6016950607299805\n",
            "Step 975, Loss 4.589573860168457\n",
            "Step 1000, Loss 4.603777885437012\n",
            "Step 1025, Loss 4.565496444702148\n",
            "Step 1050, Loss 4.573727130889893\n",
            "Starting epoch 4/160, LR = [0.09986514590688601]\n",
            "Step 1075, Loss 4.606536388397217\n",
            "Step 1100, Loss 4.561062335968018\n",
            "Step 1125, Loss 4.514211654663086\n",
            "Step 1150, Loss 4.512539386749268\n",
            "Step 1175, Loss 4.5727996826171875\n",
            "Step 1200, Loss 4.484766960144043\n",
            "Step 1225, Loss 4.375020980834961\n",
            "Step 1250, Loss 4.249967575073242\n",
            "Step 1275, Loss 4.361456871032715\n",
            "Step 1300, Loss 4.43569803237915\n",
            "Step 1325, Loss 4.256746292114258\n",
            "Step 1350, Loss 4.437366962432861\n",
            "Step 1375, Loss 4.266624927520752\n",
            "Step 1400, Loss 4.297800064086914\n",
            "Starting epoch 5/160, LR = [0.09977852049992171]\n",
            "Step 1425, Loss 4.228359222412109\n",
            "Step 1450, Loss 4.1725006103515625\n",
            "Step 1475, Loss 4.105797290802002\n",
            "Step 1500, Loss 4.18654203414917\n",
            "Step 1525, Loss 4.143068790435791\n",
            "Step 1550, Loss 4.140162944793701\n",
            "Step 1575, Loss 4.143726348876953\n",
            "Step 1600, Loss 4.156841278076172\n",
            "Step 1625, Loss 4.173018455505371\n",
            "Step 1650, Loss 4.222370624542236\n",
            "Step 1675, Loss 4.231037139892578\n",
            "Step 1700, Loss 4.261092185974121\n",
            "Step 1725, Loss 4.068415641784668\n",
            "Step 1750, Loss 4.066819667816162\n",
            "Validation Accuracy: 0.1312\n",
            "Starting epoch 6/160, LR = [0.09967271387648231]\n",
            "Step 1775, Loss 4.126646041870117\n",
            "Step 1800, Loss 4.0992045402526855\n",
            "Step 1825, Loss 4.110107421875\n",
            "Step 1850, Loss 4.015506267547607\n",
            "Step 1875, Loss 3.9310684204101562\n",
            "Step 1900, Loss 4.0812249183654785\n",
            "Step 1925, Loss 4.077294826507568\n",
            "Step 1950, Loss 3.803905963897705\n",
            "Step 1975, Loss 3.955902576446533\n",
            "Step 2000, Loss 4.059473037719727\n",
            "Step 2025, Loss 4.1630682945251465\n",
            "Step 2050, Loss 3.94317626953125\n",
            "Step 2075, Loss 4.018938064575195\n",
            "Step 2100, Loss 3.8572394847869873\n",
            "Starting epoch 7/160, LR = [0.09954776682488245]\n",
            "Step 2125, Loss 3.825885534286499\n",
            "Step 2150, Loss 3.816596508026123\n",
            "Step 2175, Loss 3.978771924972534\n",
            "Step 2200, Loss 3.829765796661377\n",
            "Step 2225, Loss 3.8769447803497314\n",
            "Step 2250, Loss 3.9026312828063965\n",
            "Step 2275, Loss 3.795241355895996\n",
            "Step 2300, Loss 3.8041393756866455\n",
            "Step 2325, Loss 3.8963682651519775\n",
            "Step 2350, Loss 3.9958536624908447\n",
            "Step 2375, Loss 4.044429302215576\n",
            "Step 2400, Loss 3.971766948699951\n",
            "Step 2425, Loss 3.8466928005218506\n",
            "Step 2450, Loss 3.5893149375915527\n",
            "Starting epoch 8/160, LR = [0.099403727512433]\n",
            "Step 2475, Loss 3.6440577507019043\n",
            "Step 2500, Loss 3.5326530933380127\n",
            "Step 2525, Loss 3.8645355701446533\n",
            "Step 2550, Loss 3.8274290561676025\n",
            "Step 2575, Loss 3.529898166656494\n"
          ]
        },
        {
          "output_type": "error",
          "ename": "KeyboardInterrupt",
          "evalue": "ignored",
          "traceback": [
            "\u001b[0;31m---------------------------------------------------------------------------\u001b[0m",
            "\u001b[0;31mKeyboardInterrupt\u001b[0m                         Traceback (most recent call last)",
            "\u001b[0;32m<ipython-input-30-dc569125e995>\u001b[0m in \u001b[0;36m<module>\u001b[0;34m\u001b[0m\n\u001b[1;32m     45\u001b[0m   \u001b[0;31m# Iterate over the dataset\u001b[0m\u001b[0;34m\u001b[0m\u001b[0;34m\u001b[0m\u001b[0;34m\u001b[0m\u001b[0m\n\u001b[1;32m     46\u001b[0m   \u001b[0;32mfor\u001b[0m \u001b[0mimages\u001b[0m\u001b[0;34m,\u001b[0m \u001b[0mlabels\u001b[0m \u001b[0;32min\u001b[0m \u001b[0mtrainloader\u001b[0m\u001b[0;34m:\u001b[0m\u001b[0;34m\u001b[0m\u001b[0;34m\u001b[0m\u001b[0m\n\u001b[0;32m---> 47\u001b[0;31m     \u001b[0mimages\u001b[0m \u001b[0;34m=\u001b[0m \u001b[0mimages\u001b[0m\u001b[0;34m.\u001b[0m\u001b[0mto\u001b[0m\u001b[0;34m(\u001b[0m\u001b[0mDEVICE\u001b[0m\u001b[0;34m)\u001b[0m\u001b[0;34m\u001b[0m\u001b[0;34m\u001b[0m\u001b[0m\n\u001b[0m\u001b[1;32m     48\u001b[0m     \u001b[0mlabels\u001b[0m \u001b[0;34m=\u001b[0m \u001b[0mlabels\u001b[0m\u001b[0;34m.\u001b[0m\u001b[0mto\u001b[0m\u001b[0;34m(\u001b[0m\u001b[0mDEVICE\u001b[0m\u001b[0;34m)\u001b[0m\u001b[0;34m\u001b[0m\u001b[0;34m\u001b[0m\u001b[0m\n\u001b[1;32m     49\u001b[0m \u001b[0;34m\u001b[0m\u001b[0m\n",
            "\u001b[0;31mKeyboardInterrupt\u001b[0m: "
          ]
        }
      ],
      "source": [
        "# (NEW) ------>\n",
        "print(\"Current Hyperparameters: \")\n",
        "print(f\"N_EPOCHS: {NUM_EPOCHS}\")\n",
        "#print(f\"STEP_SIZE: {scheduler.step_size}\")\n",
        "print(f\"Optimizer: \\n{optimizer}\")\n",
        "\n",
        "start = time.time()\n",
        "# <------------\n",
        "\n",
        "\n",
        "# By default, everything is loaded to cpu\n",
        "net = net.to(DEVICE) # this will bring the network to GPU if DEVICE is cuda\n",
        "cudnn.benchmark # calling this optimizes runtime\n",
        "\n",
        "\n",
        "\n",
        "# save best config (NEW)\n",
        "best_net = 0\n",
        "best_epoch = 0\n",
        "best_val_acc = 0.0\n",
        "\n",
        "# save accuracy and loss (NEW)\n",
        "train_accuracies = []\n",
        "train_losses = []\n",
        "val_accuracies = []\n",
        "val_losses = []\n",
        "\n",
        "current_step = 0\n",
        "# Start iterating over the epochs\n",
        "for epoch in range(NUM_EPOCHS):\n",
        "  if COSINE_ANNEALING:\n",
        "    print('Starting epoch {}/{}, LR = {}'.format(epoch+1, NUM_EPOCHS, scheduler.get_lr()))\n",
        "\n",
        "\n",
        "\n",
        "  net.train() # Sets module in training mode: \n",
        "  #() => True => sto facendo il training del mio dataset\n",
        "  #(False) => sto facendo la validation del mio dataset\n",
        "  running_corrects_train = 0\n",
        "  running_loss_train = 0.0\n",
        "\n",
        "  lrs = []\n",
        "\n",
        "\n",
        "  # Iterate over the dataset\n",
        "  for images, labels in trainloader:\n",
        "    images = images.to(DEVICE)\n",
        "    labels = labels.to(DEVICE)\n",
        "\n",
        "    \"\"\"\n",
        "    net.train() # Sets module in training mode\n",
        "    \"\"\"\n",
        "\n",
        "    # PyTorch, by default, accumulates gradients after each backward pass\n",
        "    # We need to manually set the gradients to zero before starting a new iteration\n",
        "    optimizer.zero_grad()\n",
        "\n",
        "    with torch.set_grad_enabled(True):\n",
        "      # Forward pass to the network: for each image in the batch it produces 100 values that correspond\n",
        "      # to the probability that the image belongs to one of the 100 classes\n",
        "      outputs_train = net(images)\n",
        "\n",
        "      # Prediction: for each image we assign the label with the highest probability\n",
        "      _, preds = torch.max(outputs_train, 1)\n",
        "\n",
        "      # Compute loss based on output and ground truth\n",
        "      loss = criterion(outputs_train, labels)\n",
        "\n",
        "      # Log loss\n",
        "      if current_step % LOG_FREQUENCY == 0:\n",
        "        print('Step {}, Loss {}'.format(current_step, loss.item()))\n",
        "\n",
        "      # Compute gradients for each layer and update weights\n",
        "      loss.backward()  # backward pass: computes gradients\n",
        "      optimizer.step() # update weights based on accumulated gradients\n",
        "\n",
        "    current_step += 1\n",
        "\n",
        "  # Store loss and accuracy values\n",
        "  running_corrects_train += torch.sum(preds == labels.data).data.item() \n",
        "  running_loss_train += loss.item() * images.size(0)\n",
        "  \n",
        "  train_acc = running_corrects_train / float(len(train_dataset))\n",
        "  train_loss = running_loss_train / float(len(train_dataset))\n",
        "\n",
        "  train_accuracies.append(train_acc)\n",
        "  train_losses.append(train_loss) # loss computed as the average on mini-batches\n",
        "  #train_loss.append(loss.item()) # loss computed only on the last batch\n",
        "\n",
        "  ### END TRAINING PHASE OF AN EPOCH\n",
        "\n",
        "\n",
        "  if (epoch+1) % 5 == 0: \n",
        "\n",
        "    # Evaluate accuracy on the validation set after each epoch\n",
        "    net.train(False) # Set Network to evaluation mode\n",
        "\n",
        "    running_corrects_val = 0\n",
        "    running_loss_val = 0.0\n",
        "\n",
        "      # Iterate over the dataset\n",
        "    for images, labels in val_dataloader:\n",
        "      images = images.to(DEVICE)\n",
        "      labels = labels.to(DEVICE)\n",
        "\n",
        "      # zero the parameter gradients\n",
        "      optimizer.zero_grad()\n",
        "\n",
        "      with torch.set_grad_enabled(False):\n",
        "\n",
        "        # Forward Pass\n",
        "        outputs = net(images) \n",
        "\n",
        "        # Get predictions\n",
        "        _, preds = torch.max(outputs, 1)\n",
        "\n",
        "        # Update Corrects\n",
        "        running_corrects_val += torch.sum(preds == labels.data).data.item()\n",
        "\n",
        "        # Calculate Loss\n",
        "        loss = criterion(outputs.data, labels)\n",
        "\n",
        "      # Update Corrects and Loss\n",
        "      running_loss_val += loss.item() * images.size(0)\n",
        "      running_corrects_val += torch.sum(preds == labels.data)\n",
        "\n",
        "    # Compute epoch loss and accuracy\n",
        "    val_loss = running_loss_val / float(len(val_dataset))\n",
        "    val_acc = running_corrects_val / float(len(val_dataset))\n",
        "\n",
        "    # memorize stats \n",
        "    val_losses.append(val_loss)\n",
        "    val_accuracies.append(val_acc)\n",
        "\n",
        "    print(f\"Validation Accuracy: {val_acc:.4f}\")\n",
        "\n",
        "    # Check if the current epoch val accuracy is better than the best found until now\n",
        "    if (val_acc >= best_val_acc) : \n",
        "      best_val_acc = val_acc\n",
        "      best_epoch = epoch\n",
        "      best_net = copy.deepcopy(net) # deep copy the model\n",
        "\n",
        "  # Step the scheduler\n",
        "  if COSINE_ANNEALING:\n",
        "    scheduler.step() \n",
        "\n",
        "print(f\"\\nBest epoch: {best_epoch+1}\\n{best_val_acc:.4f} (Validation Accuracy)\\n\")\n",
        "print(f\"> In {(time.time()-start)/60:.2f} minutes\")"
      ]
    },
    {
      "cell_type": "code",
      "source": [
        "import pandas as pd\n",
        "import matplotlib.pyplot as plt\n",
        "print(\"Best accuracies on the validation set: \", val_acc)\n",
        "\n",
        "results_df = pd.DataFrame(zip(range(1,NUM_EPOCHS+1), train_accuracies, val_accuracies, train_losses, val_losses), columns = [\"epoch\", \"train_accuracy\", \"val_accuracy\", \"train_loss\", \"val_loss\"])\n",
        "results_df.set_index(\"epoch\")\n",
        "results_df.plot(x = \"epoch\", y = [\"train_accuracy\", \"val_accuracy\"])\n",
        "results_df.plot(x = \"epoch\", y = [\"train_loss\", \"val_loss\"])"
      ],
      "metadata": {
        "colab": {
          "base_uri": "https://localhost:8080/",
          "height": 576
        },
        "id": "7N_qyO9NojB6",
        "outputId": "c208cc66-4f19-4512-cca7-630146596543"
      },
      "execution_count": 21,
      "outputs": [
        {
          "output_type": "stream",
          "name": "stdout",
          "text": [
            "Best accuracies on the validation set:  tensor(1.1560, device='cuda:0')\n"
          ]
        },
        {
          "output_type": "execute_result",
          "data": {
            "text/plain": [
              "<matplotlib.axes._subplots.AxesSubplot at 0x7f51cd4a7f40>"
            ]
          },
          "metadata": {},
          "execution_count": 21
        },
        {
          "output_type": "display_data",
          "data": {
            "text/plain": [
              "<Figure size 432x288 with 1 Axes>"
            ],
            "image/png": "[encoded data removed]"
          },
          "metadata": {
            "needs_background": "light"
          }
        },
        {
          "output_type": "display_data",
          "data": {
            "text/plain": [
              "<Figure size 432x288 with 1 Axes>"
            ],
            "image/png": "[encoded data removed]"
          },
          "metadata": {
            "needs_background": "light"
          }
        }
      ]
    },
    {
      "cell_type": "markdown",
      "metadata": {
        "id": "UsHFI-GAJd69"
      },
      "source": [
        "**Validation**"
      ]
    },
    {
      "cell_type": "code",
      "execution_count": null,
      "metadata": {
        "id": "EO3HV5pqJg1o",
        "colab": {
          "base_uri": "https://localhost:8080/"
        },
        "outputId": "b62ffea4-e3e9-43f7-d3d4-1c11183642ab"
      },
      "outputs": [
        {
          "output_type": "stream",
          "name": "stderr",
          "text": [
            "  8%|▊         | 1/12 [00:04<00:44,  4.03s/it]"
          ]
        },
        {
          "output_type": "stream",
          "name": "stdout",
          "text": [
            "256\n"
          ]
        },
        {
          "output_type": "stream",
          "name": "stderr",
          "text": [
            "\r 17%|█▋        | 2/12 [00:04<00:18,  1.82s/it]"
          ]
        },
        {
          "output_type": "stream",
          "name": "stdout",
          "text": [
            "256\n"
          ]
        },
        {
          "output_type": "stream",
          "name": "stderr",
          "text": [
            "\r 25%|██▌       | 3/12 [00:04<00:10,  1.11s/it]"
          ]
        },
        {
          "output_type": "stream",
          "name": "stdout",
          "text": [
            "256\n"
          ]
        },
        {
          "output_type": "stream",
          "name": "stderr",
          "text": [
            "\r 33%|███▎      | 4/12 [00:04<00:06,  1.24it/s]"
          ]
        },
        {
          "output_type": "stream",
          "name": "stdout",
          "text": [
            "256\n"
          ]
        },
        {
          "output_type": "stream",
          "name": "stderr",
          "text": [
            "\r 42%|████▏     | 5/12 [00:07<00:09,  1.35s/it]"
          ]
        },
        {
          "output_type": "stream",
          "name": "stdout",
          "text": [
            "256\n"
          ]
        },
        {
          "output_type": "stream",
          "name": "stderr",
          "text": [
            "\r 50%|█████     | 6/12 [00:07<00:05,  1.03it/s]"
          ]
        },
        {
          "output_type": "stream",
          "name": "stdout",
          "text": [
            "256\n",
            "256\n"
          ]
        },
        {
          "output_type": "stream",
          "name": "stderr",
          "text": [
            " 67%|██████▋   | 8/12 [00:07<00:02,  1.81it/s]"
          ]
        },
        {
          "output_type": "stream",
          "name": "stdout",
          "text": [
            "256\n"
          ]
        },
        {
          "output_type": "stream",
          "name": "stderr",
          "text": [
            " 83%|████████▎ | 10/12 [00:09<00:01,  1.42it/s]"
          ]
        },
        {
          "output_type": "stream",
          "name": "stdout",
          "text": [
            "256\n",
            "256\n"
          ]
        },
        {
          "output_type": "stream",
          "name": "stderr",
          "text": [
            "\r 92%|█████████▏| 11/12 [00:09<00:00,  1.90it/s]"
          ]
        },
        {
          "output_type": "stream",
          "name": "stdout",
          "text": [
            "256\n",
            "76\n"
          ]
        },
        {
          "output_type": "stream",
          "name": "stderr",
          "text": [
            "\r100%|██████████| 12/12 [00:10<00:00,  1.19it/s]"
          ]
        },
        {
          "output_type": "stream",
          "name": "stdout",
          "text": [
            "Validation Accuracy: 0.09232365145228216\n"
          ]
        },
        {
          "output_type": "stream",
          "name": "stderr",
          "text": [
            "\n"
          ]
        }
      ],
      "source": [
        "net = net.to(DEVICE) # this will bring the network to GPU if DEVICE is cuda\n",
        "net.train(False) # Set Network to evaluation mode\n",
        "\n",
        "running_corrects = 0\n",
        "for images, labels in tqdm(val_dataloader):\n",
        "  images = images.to(DEVICE)\n",
        "  labels = labels.to(DEVICE)\n",
        "\n",
        "  # Forward Pass\n",
        "  outputs = net(images)\n",
        "\n",
        "  # Get predictions\n",
        "  _, preds = torch.max(outputs.data, 1)\n",
        "\n",
        "  # Update Corrects\n",
        "  running_corrects += torch.sum(preds == labels.data).data.item()\n",
        "\n",
        "# Calculate Accuracy\n",
        "accuracy = running_corrects / float(len(val_dataset))\n",
        "\n",
        "print('Validation Accuracy: {}'.format(accuracy))"
      ]
    },
    {
      "cell_type": "markdown",
      "metadata": {
        "id": "jxekmR745ySe"
      },
      "source": [
        "**Test**"
      ]
    },
    {
      "cell_type": "code",
      "execution_count": 22,
      "metadata": {
        "id": "fSHcUqLB5yWO",
        "colab": {
          "base_uri": "https://localhost:8080/"
        },
        "outputId": "a8fe1773-c9af-4b4f-cf6e-40a7ad315cae"
      },
      "outputs": [
        {
          "output_type": "stream",
          "name": "stderr",
          "text": [
            "100%|██████████| 78/78 [00:03<00:00, 22.57it/s]"
          ]
        },
        {
          "output_type": "stream",
          "name": "stdout",
          "text": [
            "Test Accuracy: 0.5941\n"
          ]
        },
        {
          "output_type": "stream",
          "name": "stderr",
          "text": [
            "\n"
          ]
        }
      ],
      "source": [
        "net = net.to(DEVICE) # this will bring the network to GPU if DEVICE is cuda\n",
        "net.train(False) # Set Network to evaluation mode\n",
        "\n",
        "running_corrects = 0\n",
        "for images, labels in tqdm(testloader):\n",
        "  images = images.to(DEVICE)\n",
        "  labels = labels.to(DEVICE)\n",
        "\n",
        "  # Forward Pass\n",
        "  outputs = net(images)\n",
        "\n",
        "  # Get predictions\n",
        "  _, preds = torch.max(outputs.data, 1)\n",
        "\n",
        "  # Update Corrects\n",
        "  running_corrects += torch.sum(preds == labels.data).data.item()\n",
        "\n",
        "# Calculate Accuracy\n",
        "accuracy = running_corrects / float(len(test_dataset))\n",
        "\n",
        "print('Test Accuracy: {}'.format(accuracy))"
      ]
    }
  ],
  "metadata": {
    "accelerator": "GPU",
    "colab": {
      "provenance": []
    },
    "kernelspec": {
      "display_name": "Python 3",
      "name": "python3"
    },
    "gpuClass": "standard"
  },
  "nbformat": 4,
  "nbformat_minor": 0
}